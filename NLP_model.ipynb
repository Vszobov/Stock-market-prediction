{
 "cells": [
  {
   "cell_type": "markdown",
   "metadata": {},
   "source": [
    "Once we have collected the textual and financial data (see Data_Collection.ipynb for details), we need to create a model. Initially, we considered a model with two inputs (text and tabular data simultaneously), but it proved unsuitable for this task. Therefore, in this notebook, we will train an NLP model on Earnings Call transcripts. Subsequently, in Financials_model.ipynb, we will use the NLP model’s predictions and corresponding financials as a training dataset."
   ]
  },
  {
   "cell_type": "markdown",
   "metadata": {
    "cell_id": "d365551425a940729afe3163222511c7",
    "deepnote_app_coordinates": {
     "h": 5,
     "w": 12,
     "x": 0,
     "y": 1
    },
    "deepnote_cell_type": "text-cell-h1",
    "formattedRanges": [],
    "is_collapsed": false,
    "jp-MarkdownHeadingCollapsed": true,
    "tags": []
   },
   "source": [
    "# Imports"
   ]
  },
  {
   "cell_type": "code",
   "execution_count": 1,
   "metadata": {
    "cell_id": "eb279c319c3f4b0dbee2345398d88924",
    "deepnote_app_coordinates": {
     "h": 5,
     "w": 12,
     "x": 0,
     "y": 7
    },
    "deepnote_cell_height": 547.5625,
    "deepnote_cell_type": "code",
    "deepnote_to_be_reexecuted": false,
    "execution_millis": 6279,
    "execution_start": 1692357200552,
    "source_hash": null,
    "tags": []
   },
   "outputs": [
    {
     "name": "stderr",
     "output_type": "stream",
     "text": [
      "/tmp/ipykernel_22044/2503562350.py:5: DeprecationWarning: \n",
      "Pyarrow will become a required dependency of pandas in the next major release of pandas (pandas 3.0),\n",
      "(to allow more performant data types, such as the Arrow string type, and better interoperability with other libraries)\n",
      "but was not found to be installed on your system.\n",
      "If this would cause problems for you,\n",
      "please provide us feedback at https://github.com/pandas-dev/pandas/issues/54466\n",
      "        \n",
      "  import pandas as pd\n",
      "2024-10-08 10:02:57.991898: I external/local_tsl/tsl/cuda/cudart_stub.cc:31] Could not find cuda drivers on your machine, GPU will not be used.\n"
     ]
    }
   ],
   "source": [
    "import os\n",
    "import gc\n",
    "import requests\n",
    "from datetime import datetime\n",
    "import pandas as pd\n",
    "from datetime import timedelta\n",
    "import requests\n",
    "from tqdm import tqdm\n",
    "import warnings\n",
    "warnings.filterwarnings('ignore')\n",
    "import time\n",
    "import ast\n",
    "import json\n",
    "import numpy as np \n",
    "import pandas as pd\n",
    "import tensorflow as tf\n",
    "from tensorflow.keras.preprocessing.text import Tokenizer\n",
    "from tensorflow.keras.preprocessing.sequence import pad_sequences\n",
    "from tensorflow.keras.utils import to_categorical\n",
    "import pickle\n",
    "import json\n",
    "import random\n",
    "import matplotlib.pyplot as plt"
   ]
  },
  {
   "cell_type": "markdown",
   "metadata": {
    "cell_id": "2c05ca2eb96240e1b043060ba5a409e0",
    "deepnote_app_coordinates": {
     "h": 5,
     "w": 12,
     "x": 0,
     "y": 13
    },
    "deepnote_cell_type": "text-cell-h1",
    "formattedRanges": [],
    "is_collapsed": false,
    "tags": []
   },
   "source": [
    "# Data Processing"
   ]
  },
  {
   "cell_type": "code",
   "execution_count": 2,
   "metadata": {
    "cell_id": "bf9b322c5a79492c8a301a5f180459b0",
    "deepnote_app_coordinates": {
     "h": 5,
     "w": 12,
     "x": 0,
     "y": 19
    },
    "deepnote_cell_height": 76,
    "deepnote_cell_type": "code",
    "deepnote_to_be_reexecuted": false,
    "execution_millis": 14579,
    "execution_start": 1692357206702,
    "source_hash": null,
    "tags": []
   },
   "outputs": [],
   "source": [
    "df = pd.read_pickle('transcripts.pkl')"
   ]
  },
  {
   "cell_type": "markdown",
   "metadata": {
    "cell_id": "22edea48f7764b1885a08d2f8e134c27",
    "deepnote_app_coordinates": {
     "h": 5,
     "w": 12,
     "x": 0,
     "y": 25
    },
    "deepnote_cell_height": 52.390625,
    "deepnote_cell_type": "markdown",
    "tags": []
   },
   "source": [
    "**Creating tokenizer in order to translate words into numbers so that neural network can work with them**"
   ]
  },
  {
   "cell_type": "code",
   "execution_count": 3,
   "metadata": {
    "cell_id": "c151ba951a6c4253bbb226c4ef07abb9",
    "deepnote_app_coordinates": {
     "h": 5,
     "w": 12,
     "x": 0,
     "y": 31
    },
    "deepnote_cell_height": 130,
    "deepnote_cell_type": "code",
    "deepnote_to_be_reexecuted": false,
    "execution_millis": 31,
    "execution_start": 1692357221286,
    "source_hash": null,
    "tags": []
   },
   "outputs": [],
   "source": [
    "# oov_tok = \"<OOV>\"\n",
    "# tokenizer = Tokenizer(oov_token=oov_tok)\n",
    "# tokenizer.fit_on_texts(transcripts.transcript)\n",
    "# pickle.dump(tokenizer, open('tokenizer.pkl', 'wb'))"
   ]
  },
  {
   "cell_type": "code",
   "execution_count": 4,
   "metadata": {
    "cell_id": "6a8720913f8c41f1879757708c0cf12d",
    "deepnote_app_coordinates": {
     "h": 5,
     "w": 12,
     "x": 0,
     "y": 43
    },
    "deepnote_cell_height": 135,
    "deepnote_cell_type": "code",
    "deepnote_to_be_reexecuted": false,
    "execution_millis": 618,
    "execution_start": 1692357472397,
    "source_hash": null,
    "tags": []
   },
   "outputs": [],
   "source": [
    "tokenizer = pickle.load(open('tokenizer.pkl', 'rb'))"
   ]
  },
  {
   "cell_type": "code",
   "execution_count": 5,
   "metadata": {},
   "outputs": [],
   "source": [
    "#creating a test set for the future model\n",
    "year = 2018\n",
    "month = 3\n",
    "test = df[(df.time >= pd.to_datetime(f'{month+3}-01-{year}').date())]\n",
    "df = df[(df.time < pd.to_datetime(f'{month}-01-{year}').date())] "
   ]
  },
  {
   "cell_type": "markdown",
   "metadata": {
    "cell_id": "03dfbb44f9984c6fbf20ebb206e4f1fd",
    "deepnote_app_coordinates": {
     "h": 5,
     "w": 12,
     "x": 0,
     "y": 49
    },
    "deepnote_cell_type": "text-cell-h1",
    "formattedRanges": [],
    "is_collapsed": false,
    "tags": []
   },
   "source": [
    "# Machine Learning"
   ]
  },
  {
   "cell_type": "markdown",
   "metadata": {
    "cell_id": "856fcb5ded574236805b9c6060808447",
    "deepnote_app_coordinates": {
     "h": 5,
     "w": 12,
     "x": 0,
     "y": 55
    },
    "deepnote_cell_height": 209.125,
    "deepnote_cell_type": "markdown",
    "tags": []
   },
   "source": [
    "__Task and its influence on chosen model and metrics__\n",
    "\n",
    "\n",
    "We decided to use a classification model since our main interest is identifying stocks likely to grow, rather than predicting the extent of growth, making regression less suitable. As we want our model to be pretty conservative, we will set our target to 1 when a stock has grown during a 90-day period, and 0 otherwise. We can also adjust the model's risk level by, for example, setting the target to 1 only when a stock has grown by 10% or more.\n",
    "\n",
    "We decided to use precision as our evaluation metric because the most important factor is the proportion of stocks in our “portfolio” that grew. The accuracy of our predictions for the rest of the stocks is less critical. We will use precision on the 100 stocks (not as big to be always too close to overall market in terms of performance but enough to build diversified portfolio) with the highest probability of growth in each period and compare this with the performance of all stocks (Because if 70% of stocks were growing in the entire market, selecting 60% of growing stocks for our portfolio should be considered a failure, despite being more than half, since it is less than a random guess). \n",
    "\n",
    "We do not use profit as a metric for model validation because it can be heavily influenced by outliers. We will asses profits in the very end when we will be drawing conclusions about the model. "
   ]
  },
  {
   "cell_type": "markdown",
   "metadata": {},
   "source": [
    "__Cross-validation and model assesment__\n",
    "\n",
    "Traditional cross-validation is not feasible due to the time dependency in our data. Predicting the past at the expense of the future could introduce bias and mislead model assessment. To address this, we will adopt a time-dependent approach: training the model on known data up to a certain point, testing it on the subsequent 3 months, then shifting forward by another 3 months, and retraining. This process generates predictions from models trained on different datasets. Consecutive months cannot be used for training and testing since our target (stock price change in 90 days) is unknown. Thus, a 3-month pause is implemented between training and validation sets to account for this temporal gap."
   ]
  },
  {
   "cell_type": "code",
   "execution_count": 6,
   "metadata": {
    "cell_id": "e3216ff2cca3416b8948bc04bc4d3f66",
    "deepnote_app_coordinates": {
     "h": 5,
     "w": 12,
     "x": 0,
     "y": 61
    },
    "deepnote_cell_height": 1107,
    "deepnote_cell_type": "code",
    "deepnote_to_be_reexecuted": false,
    "execution_millis": 13,
    "execution_start": 1692357443243,
    "source_hash": null,
    "tags": []
   },
   "outputs": [],
   "source": [
    "def backtest(ped, model, num_epochs, ml = 9000):\n",
    "    # spliting into train and test with the gap mentioned above if it's the first ever quarter\n",
    "    if ped == 0: \n",
    "        train = df[(df.time < pd.to_datetime(f'01-03-2017').date()) ] \n",
    "        valid = df[(df.time > train.time.max() + timedelta(days = 90)) & (df.time < train.time.max() + timedelta(days = 180))]  \n",
    "    else:\n",
    "    # if it's not the first ever quarter spliting into train and test starting with previos ending date\n",
    "        valid = df[(df.time >= ped + timedelta(1)) & (df.time <= ped+timedelta(90))]\n",
    "        train = df[(df.time < valid.time.min() - timedelta(90)) ] \n",
    "                                                      \n",
    "    ped = valid.time.max()                                        \n",
    "    \n",
    "                                                      \n",
    "    # tokenizing textual data\n",
    "    trunc_type='post'\n",
    "    padding_type='post'\n",
    "    oov_tok = \"<OOV>\"\n",
    "    training_padded = pad_sequences(tokenizer.texts_to_sequences(train.transcript), maxlen=max_length, padding=padding_type, truncating=trunc_type)\n",
    "    valid_padded = pad_sequences(tokenizer.texts_to_sequences(valid.transcript), maxlen=max_length, padding=padding_type, truncating=trunc_type)\n",
    "    \n",
    "    # valid = valid.drop(columns = 'transcript')\n",
    "    vocab_size = len(tokenizer.word_index) + 1\n",
    "\n",
    "    #setting the target                                                \n",
    "    train['y'] = 0\n",
    "    train['y'][train.change > 1] = 1\n",
    "    valid['y'] = 0\n",
    "    valid['y'][valid.change > 1] = 1\n",
    "    y_train = np.array(train.y)\n",
    "    # train = []\n",
    "                                                      \n",
    "    #compiling and fitting the model                                                \n",
    "\n",
    "    os.environ['PYTHONHASHSEED']=str(1)\n",
    "    tf.random.set_seed(1)\n",
    "    np.random.seed(1)\n",
    "    random.seed(1)\n",
    "    num_epochs = num_epochs\n",
    "    opt = 'Adam'\n",
    "    model.compile(loss='binary_crossentropy',optimizer = opt, metrics=['AUC'])\n",
    "    model.fit(training_padded, y_train, epochs=num_epochs, verbose=0, batch_size = 128,  validation_data = (valid_padded, np.array(valid.y))) \n",
    "    valid['proba'] = model.predict(valid_padded, verbose = 0)\n",
    "    \n",
    "    # selecting top 100 stocks and calculating precision for this portfolio and the entire market\n",
    "                                                      \n",
    "    top = valid.sort_values(by = 'proba', ascending = False).iloc[range(100)]\n",
    "    precision = top.y.mean()\n",
    "    op = valid.y.mean()\n",
    "    \n",
    "    return ped, precision, op"
   ]
  },
  {
   "cell_type": "markdown",
   "metadata": {},
   "source": [
    "__Testing different architectures__\n",
    "\n",
    "We need to test several architecture options, text preprocessing techniques, and hyperparameters to choose the best one for this task. Since the transcripts are very long, we will avoid advanced options like LSTM or Transformers, as they require very powerful machines to process them within a reasonable timeframe, which are not availible for us."
   ]
  },
  {
   "cell_type": "code",
   "execution_count": 7,
   "metadata": {},
   "outputs": [
    {
     "data": {
      "text/plain": [
       "0.10625234780653267"
      ]
     },
     "execution_count": 7,
     "metadata": {},
     "output_type": "execute_result"
    }
   ],
   "source": [
    "import keras\n",
    "import warnings\n",
    "fin = []\n",
    "warnings.filterwarnings(\"ignore\")  \n",
    "vocab_size = len(tokenizer.word_index) + 1\n",
    "max_length = 9000\n",
    "embedding_dim = 8\n",
    "\n",
    "os.environ['TF_CPP_MIN_LOG_LEVEL'] = '3'\n",
    "os.environ['PYTHONHASHSEED']=str(1)\n",
    "tf.random.set_seed(1)\n",
    "np.random.seed(1)\n",
    "random.seed(1)\n",
    "\n",
    "\n",
    "num_epochs = 5\n",
    "\n",
    "ped = 0\n",
    "precisions = []\n",
    "warnings.filterwarnings(\"ignore\")\n",
    "for i in range(4):\n",
    "    model = tf.keras.Sequential([\n",
    "        tf.keras.layers.Embedding(vocab_size, embedding_dim, input_length=max_length),\n",
    "        tf.keras.layers.GlobalAveragePooling1D(),\n",
    "        tf.keras.layers.Dense(200, activation='relu'),\n",
    "        tf.keras.layers.Dense(100, activation='relu'),\n",
    "        tf.keras.layers.Dense(50, activation='relu'),\n",
    "        tf.keras.layers.Dense(24, activation='relu'),\n",
    "        tf.keras.layers.Dense(1, activation='sigmoid'),\n",
    "    ])\n",
    "    bk = backtest(ped, model, num_epochs, ml = 9000)\n",
    "    ped = bk[0]\n",
    "    precisions.append(bk[1]-bk[2])\n",
    "\n",
    "np.mean(precisions)"
   ]
  },
  {
   "cell_type": "code",
   "execution_count": 8,
   "metadata": {},
   "outputs": [
    {
     "data": {
      "text/plain": [
       "0.11125234780653268"
      ]
     },
     "execution_count": 8,
     "metadata": {},
     "output_type": "execute_result"
    }
   ],
   "source": [
    "#trying different architecture\n",
    "import keras\n",
    "import warnings\n",
    "fin = []\n",
    "warnings.filterwarnings(\"ignore\")  \n",
    "vocab_size = len(tokenizer.word_index) + 1\n",
    "max_length = 9000\n",
    "embedding_dim = 8\n",
    "os.environ['TF_CPP_MIN_LOG_LEVEL'] = '3'\n",
    "os.environ['PYTHONHASHSEED']=str(1)\n",
    "tf.random.set_seed(1)\n",
    "np.random.seed(1)\n",
    "random.seed(1)\n",
    "\n",
    "\n",
    "num_epochs = 5\n",
    "\n",
    "ped = 0\n",
    "precisions = []\n",
    "warnings.filterwarnings(\"ignore\")\n",
    "for i in range(4):\n",
    "    model = tf.keras.Sequential([\n",
    "        tf.keras.layers.Embedding(vocab_size, embedding_dim, input_length=max_length),\n",
    "        tf.keras.layers.GlobalAveragePooling1D(),\n",
    "        tf.keras.layers.Dense(200, activation='relu'),\n",
    "        tf.keras.layers.Dense(100, activation='relu'),\n",
    "        tf.keras.layers.Dense(50, activation='relu'),\n",
    "        tf.keras.layers.Dense(24, activation='relu'),\n",
    "        tf.keras.layers.Dense(12, activation='relu'),\n",
    "        tf.keras.layers.Dense(1, activation='sigmoid'),\n",
    "    ])\n",
    "    bk = backtest(ped, model, num_epochs, ml = 9000)\n",
    "    ped = bk[0]\n",
    "    precisions.append(bk[1]-bk[2])\n",
    "\n",
    "np.mean(precisions)"
   ]
  },
  {
   "cell_type": "code",
   "execution_count": 9,
   "metadata": {},
   "outputs": [
    {
     "data": {
      "text/plain": [
       "0.07875234780653265"
      ]
     },
     "execution_count": 9,
     "metadata": {},
     "output_type": "execute_result"
    }
   ],
   "source": [
    "#trying different architecture\n",
    "import keras\n",
    "import warnings\n",
    "fin = []\n",
    "warnings.filterwarnings(\"ignore\")  \n",
    "vocab_size = len(tokenizer.word_index) + 1\n",
    "max_length = 9000\n",
    "embedding_dim = 8\n",
    "os.environ['TF_CPP_MIN_LOG_LEVEL'] = '3'\n",
    "os.environ['PYTHONHASHSEED']=str(1)\n",
    "tf.random.set_seed(1)\n",
    "np.random.seed(1)\n",
    "random.seed(1)\n",
    "\n",
    "\n",
    "num_epochs = 4\n",
    "\n",
    "ped = 0\n",
    "precisions = []\n",
    "warnings.filterwarnings(\"ignore\")\n",
    "for i in range(4):\n",
    "    model = tf.keras.Sequential([\n",
    "        tf.keras.layers.Embedding(vocab_size, embedding_dim, input_length=max_length),\n",
    "        tf.keras.layers.GlobalAveragePooling1D(),\n",
    "        tf.keras.layers.Dense(800, activation='relu'),\n",
    "        tf.keras.layers.Dense(400, activation='relu'),\n",
    "        tf.keras.layers.Dense(200, activation='relu'),\n",
    "        tf.keras.layers.Dense(100, activation='relu'),\n",
    "        tf.keras.layers.Dense(50, activation='relu'),\n",
    "        tf.keras.layers.Dense(24, activation='relu'),\n",
    "        tf.keras.layers.Dense(1, activation='sigmoid'),\n",
    "    ])\n",
    "    bk = backtest(ped, model, num_epochs, ml = 9000)\n",
    "    ped = bk[0]\n",
    "    precisions.append(bk[1]-bk[2])\n",
    "\n",
    "np.mean(precisions)"
   ]
  },
  {
   "cell_type": "code",
   "execution_count": 10,
   "metadata": {},
   "outputs": [
    {
     "data": {
      "text/plain": [
       "0.0637523478065327"
      ]
     },
     "execution_count": 10,
     "metadata": {},
     "output_type": "execute_result"
    }
   ],
   "source": [
    "#trying so far the best architecture with embedding dimension 4 instead of 8\n",
    "import keras\n",
    "import warnings\n",
    "fin = []\n",
    "warnings.filterwarnings(\"ignore\")  \n",
    "vocab_size = len(tokenizer.word_index) + 1\n",
    "max_length = 9000\n",
    "embedding_dim = 4\n",
    "os.environ['TF_CPP_MIN_LOG_LEVEL'] = '3'\n",
    "os.environ['PYTHONHASHSEED']=str(1)\n",
    "tf.random.set_seed(1)\n",
    "np.random.seed(1)\n",
    "random.seed(1)\n",
    "\n",
    "\n",
    "num_epochs = 4\n",
    "\n",
    "ped = 0\n",
    "precisions = []\n",
    "warnings.filterwarnings(\"ignore\")\n",
    "for i in range(4):\n",
    "    model = tf.keras.Sequential([\n",
    "        tf.keras.layers.Embedding(vocab_size, embedding_dim, input_length=max_length),\n",
    "        tf.keras.layers.GlobalAveragePooling1D(),\n",
    "        tf.keras.layers.Dense(200, activation='relu'),\n",
    "        tf.keras.layers.Dense(100, activation='relu'),\n",
    "        tf.keras.layers.Dense(50, activation='relu'),\n",
    "        tf.keras.layers.Dense(24, activation='relu'),\n",
    "        tf.keras.layers.Dense(1, activation='sigmoid'),\n",
    "    ])\n",
    "    bk = backtest(ped, model, num_epochs, ml = 9000)\n",
    "    ped = bk[0]\n",
    "    precisions.append(bk[1]-bk[2])\n",
    "\n",
    "np.mean(precisions)"
   ]
  },
  {
   "cell_type": "code",
   "execution_count": 11,
   "metadata": {},
   "outputs": [],
   "source": [
    "from nltk.corpus import stopwords\n",
    "\n",
    "def remove_stopwords(text):\n",
    "    text = text.split(' ')\n",
    "    filtered_text = [word for word in text if word not in stopwords.words('english')]\n",
    "    return ' '.join(filtered_text)\n",
    "df.transcript = df.transcript.apply(remove_stopwords)"
   ]
  },
  {
   "cell_type": "code",
   "execution_count": 12,
   "metadata": {},
   "outputs": [
    {
     "data": {
      "text/plain": [
       "0.09375234780653266"
      ]
     },
     "execution_count": 12,
     "metadata": {},
     "output_type": "execute_result"
    }
   ],
   "source": [
    "#trying so far the best architecture with removed stopwords\n",
    "\n",
    "import keras\n",
    "import warnings\n",
    "fin = []\n",
    "warnings.filterwarnings(\"ignore\")  \n",
    "vocab_size = len(tokenizer.word_index) + 1\n",
    "max_length = 9000\n",
    "embedding_dim = 8\n",
    "os.environ['TF_CPP_MIN_LOG_LEVEL'] = '3'\n",
    "os.environ['PYTHONHASHSEED']=str(1)\n",
    "tf.random.set_seed(1)\n",
    "np.random.seed(1)\n",
    "random.seed(1)\n",
    "\n",
    "\n",
    "num_epochs = 5\n",
    "\n",
    "ped = 0\n",
    "precisions = []\n",
    "warnings.filterwarnings(\"ignore\")\n",
    "for i in range(4):\n",
    "    model = tf.keras.Sequential([\n",
    "        tf.keras.layers.Embedding(vocab_size, embedding_dim, input_length=max_length),\n",
    "        tf.keras.layers.GlobalAveragePooling1D(),\n",
    "        tf.keras.layers.Dense(200, activation='relu'),\n",
    "        tf.keras.layers.Dense(100, activation='relu'),\n",
    "        tf.keras.layers.Dense(50, activation='relu'),\n",
    "        tf.keras.layers.Dense(24, activation='relu'),\n",
    "        tf.keras.layers.Dense(12, activation='relu'),\n",
    "        tf.keras.layers.Dense(1, activation='sigmoid'),\n",
    "    ])\n",
    "    bk = backtest(ped, model, num_epochs, ml = 9000)\n",
    "    ped = bk[0]\n",
    "    precisions.append(bk[1]-bk[2])\n",
    "\n",
    "np.mean(precisions)"
   ]
  },
  {
   "cell_type": "markdown",
   "metadata": {
    "cell_id": "2c05ca2eb96240e1b043060ba5a409e0",
    "deepnote_app_coordinates": {
     "h": 5,
     "w": 12,
     "x": 0,
     "y": 13
    },
    "deepnote_cell_type": "text-cell-h1",
    "formattedRanges": [],
    "is_collapsed": false,
    "tags": []
   },
   "source": [
    "# Assesing results"
   ]
  },
  {
   "cell_type": "markdown",
   "metadata": {},
   "source": [
    "As we have chosen the best model now we need to asses the results and save file for the financials model"
   ]
  },
  {
   "cell_type": "code",
   "execution_count": 13,
   "metadata": {},
   "outputs": [],
   "source": [
    "# reading file once again to restore the original texts \n",
    "df = pd.read_pickle('transcripts.pkl')\n",
    "year = 2018\n",
    "month = 3\n",
    "test = df[(df.time >= pd.to_datetime(f'{month+3}-01-{year}').date())]\n",
    "df = df[(df.time < pd.to_datetime(f'{month}-01-{year}').date())] \n"
   ]
  },
  {
   "cell_type": "code",
   "execution_count": 14,
   "metadata": {},
   "outputs": [],
   "source": [
    "# once again fitting the best model and making presictions on the test set\n",
    "\n",
    "import keras\n",
    "import warnings\n",
    "warnings.filterwarnings(\"ignore\")  \n",
    "\n",
    "vocab_size = len(tokenizer.word_index) + 1\n",
    "max_length = 9000\n",
    "embedding_dim = 8\n",
    "trunc_type='post'\n",
    "padding_type='post'\n",
    "oov_tok = \"<OOV>\"\n",
    "\n",
    "training_padded = pad_sequences(tokenizer.texts_to_sequences(df.transcript), maxlen=max_length, padding=padding_type, truncating=trunc_type)\n",
    "testing_padded = pad_sequences(tokenizer.texts_to_sequences(test.transcript), maxlen=max_length, padding=padding_type, truncating=trunc_type)\n",
    "\n",
    "df['y'] = 0\n",
    "df['y'][df.change > 1] = 1\n",
    "y_train = np.array(df.y)\n",
    "\n",
    "num_epochs = 5\n",
    "\n",
    "os.environ['PYTHONHASHSEED']=str(1)\n",
    "tf.random.set_seed(1)\n",
    "np.random.seed(1)\n",
    "random.seed(1)\n",
    "\n",
    "model = tf.keras.Sequential([\n",
    "    tf.keras.layers.Embedding(vocab_size, embedding_dim, input_length=max_length),\n",
    "    tf.keras.layers.GlobalAveragePooling1D(),\n",
    "    tf.keras.layers.Dense(200, activation='relu'),\n",
    "    tf.keras.layers.Dense(100, activation='relu'),\n",
    "    tf.keras.layers.Dense(50, activation='relu'),\n",
    "    tf.keras.layers.Dense(24, activation='relu'),\n",
    "    tf.keras.layers.Dense(12, activation='relu'),\n",
    "    tf.keras.layers.Dense(1, activation='sigmoid'),\n",
    "])\n",
    "\n",
    "opt = 'Adam'\n",
    "model.compile(loss='binary_crossentropy',optimizer = opt, metrics=['AUC'])\n",
    "model.fit(training_padded, y_train, epochs=num_epochs, verbose=0, batch_size = 128) \n",
    "test['proba'] = model.predict(testing_padded, verbose = 0)"
   ]
  },
  {
   "cell_type": "code",
   "execution_count": 15,
   "metadata": {},
   "outputs": [],
   "source": [
    "#calculating our portfolio and overall market precisions in each year of the test set\n",
    "precesion_model, precesion_market = [], []\n",
    "for i in range(2018, 2022):\n",
    "    prom = test[(test.time >= pd.to_datetime(f'01-01-{i}').date()) & (test.time < pd.to_datetime(f'01-01-{i+1}').date())]\n",
    "    prom['y'] = 0\n",
    "    prom['y'][prom.change > 1] = 1\n",
    "    precesion_model.append(prom.sort_values(by = 'proba', ascending = False).iloc[range(100)].y.mean())\n",
    "    precesion_market.append(prom.y.mean())"
   ]
  },
  {
   "cell_type": "code",
   "execution_count": 16,
   "metadata": {},
   "outputs": [
    {
     "data": {
      "image/png": "[encoded data removed]",
      "text/plain": [
       "<Figure size 640x480 with 1 Axes>"
      ]
     },
     "metadata": {},
     "output_type": "display_data"
    }
   ],
   "source": [
    "#graph of our portfolio and overall market precisions in each year of the test set\n",
    "\n",
    "r = np.array([0, 0.6, 1.2, 1.8])\n",
    "width = 0.2\n",
    "\n",
    "plt.bar(r, precesion_model, color = 'b', \n",
    "        width = width,\n",
    "        label='Model precision') \n",
    "plt.bar(r + width, precesion_market, color = 'r', \n",
    "        width = width, \n",
    "        label='Random guess precision') \n",
    "  \n",
    "plt.xlabel(\"Year\") \n",
    "  \n",
    "plt.xticks(r + width/2,['2018','2019','2020','2021']) \n",
    "# plt.gca().yaxis.set_major_formatter(mtick.PercentFormatter(xmax=1.0))\n",
    "plt.legend()\n",
    "plt.axhline(y=0,linewidth=1, color='k')\n",
    "\n",
    "\n",
    "plt.show()"
   ]
  },
  {
   "cell_type": "markdown",
   "metadata": {},
   "source": [
    "Now we need to evaluate the model's performance in terms of profit, which was the primary goal. The comparison, once again, should be against the market, as it's not difficult to create a profitable portfolio in a growing market by random guessing. The key is to consistently outperform the market."
   ]
  },
  {
   "cell_type": "code",
   "execution_count": 17,
   "metadata": {},
   "outputs": [],
   "source": [
    "#calculating our portfolio and overall market profits in each year of the test set\n",
    "\n",
    "profits_model, profits_market = [], []\n",
    "for i in range(2018, 2022):\n",
    "    prom = test[(test.time >= pd.to_datetime(f'01-01-{i}').date()) & (test.time < pd.to_datetime(f'01-01-{i+1}').date())]\n",
    "    profits_model.append(prom.sort_values(by = 'proba', ascending = False).iloc[range(100)].change.mean()-1)\n",
    "    profits_market.append(prom.change.mean()-1)"
   ]
  },
  {
   "cell_type": "code",
   "execution_count": 18,
   "metadata": {},
   "outputs": [
    {
     "data": {
      "image/png": "[encoded data removed]",
      "text/plain": [
       "<Figure size 640x480 with 1 Axes>"
      ]
     },
     "metadata": {},
     "output_type": "display_data"
    }
   ],
   "source": [
    "#graph of our portfolio and overall market profits in each year of the test set\n",
    "\n",
    "import matplotlib.ticker as mtick\n",
    "r = np.array([0, 0.6, 1.2, 1.8])\n",
    "width = 0.2\n",
    "\n",
    "plt.bar(r, profits_model, color = 'b', \n",
    "        width = width,\n",
    "        label='Model profit') \n",
    "plt.bar(r + width, profits_market, color = 'r', \n",
    "        width = width, \n",
    "        label='Market profit') \n",
    "  \n",
    "plt.xlabel(\"Year\") \n",
    "  \n",
    "plt.xticks(r + width/2,['2018','2019','2020','2021']) \n",
    "plt.gca().yaxis.set_major_formatter(mtick.PercentFormatter(xmax=1.0))\n",
    "plt.legend()\n",
    "plt.axhline(y=0,linewidth=1, color='k')\n",
    "\n",
    "\n",
    "plt.show()"
   ]
  },
  {
   "cell_type": "code",
   "execution_count": 19,
   "metadata": {},
   "outputs": [
    {
     "name": "stdout",
     "output_type": "stream",
     "text": [
      "Average differencce between model profit and market model: 3.56%\n",
      "Average differencce between model precision and random guess: 0.082\n"
     ]
    }
   ],
   "source": [
    "print('Average differencce between model profit and market model:', str(round((np.mean(profits_model)-np.mean(profits_market))*100, 2))+'%')\n",
    "print('Average differencce between model precision and random guess:', round(np.mean(precesion_model)-np.mean(precesion_market), 3))\n",
    "\n"
   ]
  },
  {
   "cell_type": "markdown",
   "metadata": {},
   "source": [
    "As you can see model indeed can consistently outperform the market in terms of both profit and precision, so now we only need to improve it by adding financials in the next notebook. "
   ]
  },
  {
   "cell_type": "markdown",
   "metadata": {
    "cell_id": "993df2776c3a45b294853703b060f461",
    "deepnote_app_coordinates": {
     "h": 5,
     "w": 12,
     "x": 0,
     "y": 91
    },
    "deepnote_cell_type": "text-cell-h1",
    "formattedRanges": [],
    "is_collapsed": false,
    "tags": []
   },
   "source": [
    "# Preparing data for Statlearn "
   ]
  },
  {
   "cell_type": "code",
   "execution_count": 20,
   "metadata": {
    "cell_id": "a80aead84e864e3689b7220653d90270",
    "deepnote_app_coordinates": {
     "h": 5,
     "w": 12,
     "x": 0,
     "y": 97
    },
    "deepnote_cell_height": 945,
    "deepnote_cell_type": "code",
    "deepnote_to_be_reexecuted": true,
    "execution_millis": 140896,
    "execution_start": 1662798466471,
    "source_hash": null,
    "tags": []
   },
   "outputs": [],
   "source": [
    "os.environ['PYTHONHASHSEED']=str(1)\n",
    "tf.random.set_seed(1)\n",
    "np.random.seed(1)\n",
    "random.seed(1)\n",
    "vocab_size = len(tokenizer.word_index) + 1\n",
    "embedding_dim = 8\n",
    "max_length = 9000\n",
    "trunc_type='post'\n",
    "padding_type='post'\n",
    "oov_tok = \"<OOV>\"\n",
    "\n",
    "training_sequences = tokenizer.texts_to_sequences(df.transcript)\n",
    "training_padded = pad_sequences(training_sequences, maxlen=max_length, padding=padding_type, truncating=trunc_type)\n",
    "\n",
    "testing_sequences = tokenizer.texts_to_sequences(test.transcript)\n",
    "testing_padded = pad_sequences(testing_sequences, maxlen=max_length, padding=padding_type, truncating=trunc_type)\n",
    "os.environ['PYTHONHASHSEED']=str(1)\n",
    "tf.random.set_seed(1)\n",
    "np.random.seed(1)\n",
    "random.seed(1)\n",
    "\n",
    "vocab_size = len(tokenizer.word_index) + 1\n",
    "\n",
    "df['y'] = 0\n",
    "df['y'][df.change > 1] = 1\n",
    "\n",
    "test['y'] = 0\n",
    "test['y'][test.change > 1] = 1\n",
    "\n",
    "y_train = np.array(df.y)\n",
    "y_test = np.array(test.y)\n",
    "\n",
    "num_epochs = 3\n",
    "model = tf.keras.Sequential([\n",
    "tf.keras.layers.Embedding(vocab_size, embedding_dim, input_length=max_length),\n",
    "tf.keras.layers.GlobalAveragePooling1D(),\n",
    "tf.keras.layers.Dense(200, activation='relu'),\n",
    "tf.keras.layers.Dense(100, activation='relu'),\n",
    "tf.keras.layers.Dense(50, activation='relu'),\n",
    "tf.keras.layers.Dense(24, activation='relu'),\n",
    "tf.keras.layers.Dense(12, activation='relu'),\n",
    "tf.keras.layers.Dense(1, activation='sigmoid'),\n",
    "])\n",
    "\n",
    "model.compile(loss='binary_crossentropy',optimizer='Adam',metrics=['AUC'])\n",
    "model.fit(training_padded, y_train, epochs=num_epochs, verbose=0) \n",
    "predicted_proba_hg = model.predict(testing_padded, verbose = 0)\n",
    "test['call'] = predicted_proba_hg"
   ]
  },
  {
   "cell_type": "code",
   "execution_count": 21,
   "metadata": {
    "cell_id": "2a0f635eec8d48ac940c767bb5cb432c",
    "deepnote_app_coordinates": {
     "h": 5,
     "w": 12,
     "x": 0,
     "y": 103
    },
    "deepnote_cell_height": 76,
    "deepnote_cell_type": "code",
    "deepnote_to_be_reexecuted": true,
    "execution_millis": 49,
    "execution_start": 1662798607367,
    "source_hash": null,
    "tags": []
   },
   "outputs": [],
   "source": [
    "test.drop(columns = 'transcript').to_pickle('test.pkl')"
   ]
  }
 ],
 "metadata": {
  "deepnote": {
   "is_reactive": false
  },
  "deepnote_app_layout": "article",
  "deepnote_execution_queue": [],
  "deepnote_notebook_id": "f46b4635a9be4db78ae6cba67e50b6cd",
  "kernelspec": {
   "display_name": "Python 3 (ipykernel)",
   "language": "python",
   "name": "python3"
  },
  "language_info": {
   "codemirror_mode": {
    "name": "ipython",
    "version": 3
   },
   "file_extension": ".py",
   "mimetype": "text/x-python",
   "name": "python",
   "nbconvert_exporter": "python",
   "pygments_lexer": "ipython3",
   "version": "3.9.2"
  }
 },
 "nbformat": 4,
 "nbformat_minor": 4
}
