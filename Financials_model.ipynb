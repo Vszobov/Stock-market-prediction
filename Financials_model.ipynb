{
 "cells": [
  {
   "cell_type": "markdown",
   "metadata": {
    "tags": []
   },
   "source": [
    "# Imports"
   ]
  },
  {
   "cell_type": "code",
   "execution_count": 1,
   "metadata": {
    "cell_id": "141cff8232f44045938119504667d1e9",
    "deepnote_app_coordinates": {
     "h": 5,
     "w": 12,
     "x": 0,
     "y": 1
    },
    "deepnote_cell_height": 1331,
    "deepnote_cell_type": "code",
    "deepnote_to_be_reexecuted": false,
    "execution_millis": 22304,
    "execution_start": 1663054532165,
    "source_hash": "f383af75",
    "tags": []
   },
   "outputs": [],
   "source": [
    "import os\n",
    "import gc\n",
    "import requests\n",
    "from datetime import datetime\n",
    "import pandas as pd\n",
    "from datetime import timedelta\n",
    "import requests\n",
    "from tqdm import tqdm\n",
    "import warnings\n",
    "warnings.filterwarnings('ignore')\n",
    "import time\n",
    "import ast\n",
    "import json\n",
    "import numpy as np \n",
    "import pandas as pd\n",
    "import os\n",
    "import warnings\n",
    "warnings.filterwarnings('ignore')\n",
    "from sklearn.model_selection import train_test_split\n",
    "from sklearn.metrics import accuracy_score\n",
    "from sklearn import metrics\n",
    "from sklearn.ensemble import BaggingClassifier, RandomForestClassifier, GradientBoostingClassifier, StackingClassifier\n",
    "from catboost import CatBoostClassifier\n",
    "from lightgbm import LGBMClassifier\n",
    "from sklearn.linear_model import LogisticRegression\n",
    "from xgboost import XGBClassifier\n",
    "from sklearn import metrics\n",
    "from sklearn.metrics import confusion_matrix\n",
    "from sklearn import linear_model\n",
    "from sklearn.metrics import roc_auc_score\n",
    "from sklearn.ensemble import GradientBoostingClassifier, StackingClassifier\n",
    "from catboost import CatBoostClassifier\n",
    "from lightgbm import LGBMClassifier\n",
    "from xgboost import XGBClassifier\n",
    "import matplotlib.pyplot as plt"
   ]
  },
  {
   "cell_type": "markdown",
   "metadata": {},
   "source": [
    "# Data Processing"
   ]
  },
  {
   "cell_type": "markdown",
   "metadata": {},
   "source": [
    "Now we need to improve our model by adding financial parameters. To see data collection and feature engeeniring for this data please refer to Data_collection.ipynb."
   ]
  },
  {
   "cell_type": "code",
   "execution_count": 2,
   "metadata": {
    "cell_id": "3f5747c058624ea499de7958d9c127e5",
    "deepnote_app_coordinates": {
     "h": 5,
     "w": 12,
     "x": 0,
     "y": 7
    },
    "deepnote_cell_height": 94,
    "deepnote_cell_type": "code",
    "deepnote_to_be_reexecuted": false,
    "execution_millis": 46,
    "execution_start": 1662999482452,
    "source_hash": "c03bf8d7",
    "tags": []
   },
   "outputs": [],
   "source": [
    "test = pd.read_pickle('test.pkl')\n",
    "df = pd.read_pickle('financials_data.pkl')\n",
    "df['time'] = pd.to_datetime(df.time).apply(lambda x: x.date())\n",
    "df = test.drop(columns = 'mcap').merge(df.drop(columns = 'time'), left_on = ['ticker', 'quarter', 'year'], right_on = ['ticker', 'quarter', 'year'], how = 'left')\n",
    "df = df.dropna()"
   ]
  },
  {
   "cell_type": "markdown",
   "metadata": {},
   "source": [
    "We again must divide into train and test in such a way that there is a pause of 90 days between them, which is necessary for us to know the target (since the target is the price 90 days from the date of the report, the last report that we can include in the training should be 90 days before the first report in the test set)"
   ]
  },
  {
   "cell_type": "code",
   "execution_count": 3,
   "metadata": {},
   "outputs": [],
   "source": [
    "month, year = 6, 2020\n",
    "train = df[(df.time < pd.to_datetime(f'{month}-01-{year}').date())]\n",
    "test = df[(df.time >= pd.to_datetime(f'{month}-01-{year}').date() + timedelta(90))] "
   ]
  },
  {
   "cell_type": "markdown",
   "metadata": {},
   "source": [
    "Also, we again need to make time dependent cross-validation with the same pause principle. Here we once again use precision of top 100 stocks again the \"precision\" of the whole market to asses models."
   ]
  },
  {
   "cell_type": "code",
   "execution_count": 4,
   "metadata": {},
   "outputs": [],
   "source": [
    "def cross_val(model, cols): \n",
    "    res = []\n",
    "    start_d = train.time.max() - timedelta(90*4)\n",
    "    for i in range(3):\n",
    "        tr = train[train.time < start_d+timedelta(90*i)][cols+['y', 'time', 'change']]\n",
    "        y_train = np.array(tr.y)\n",
    "        tr = tr.drop(columns = 'y')\n",
    "        val = train[(train.time > tr.time.max()+timedelta(91)) & (train.time < tr.time.max()+timedelta(181))][cols+['y', 'change', 'time']]\n",
    "        model = model.fit(tr.drop(columns = ['time', 'change']), y_train) \n",
    "        val['proba'] = model.predict_proba(val.drop(columns = ['y', 'change', 'time']))[:,1]\n",
    "        sc = val.sort_values(by = 'proba', ascending = False).iloc[range(100)].y.mean() - val.y.mean()\n",
    "        res.append(sc)\n",
    "    return np.mean(res)"
   ]
  },
  {
   "cell_type": "code",
   "execution_count": 5,
   "metadata": {},
   "outputs": [
    {
     "data": {
      "text/plain": [
       "100"
      ]
     },
     "execution_count": 5,
     "metadata": {},
     "output_type": "execute_result"
    }
   ],
   "source": [
    "len(train.drop(columns = ['ticker', 'year', 'quarter', 'time', 'mcap', 'change', 'cik',\n",
    "'calendarYear', 'y']).columns)"
   ]
  },
  {
   "cell_type": "markdown",
   "metadata": {},
   "source": [
    "We have total of 100 financial metrics in our dataset, so we first need to get rid of unnecessary ones. The first thing we can do is to fit baseline random forest model and look at feature importance. If we add a random variable to the model then all the features which importance will be less than of the random one can be removed as the are likely to be useless as they couldn't beat random. "
   ]
  },
  {
   "cell_type": "code",
   "execution_count": 6,
   "metadata": {},
   "outputs": [
    {
     "data": {
      "text/plain": [
       "68"
      ]
     },
     "execution_count": 6,
     "metadata": {},
     "output_type": "execute_result"
    }
   ],
   "source": [
    "import random\n",
    "random.seed(0)\n",
    "train['random'] = [random.random() for i in range(len(train))]\n",
    "rf = RandomForestClassifier(random_state=0, max_depth = 2)\n",
    "model = rf.fit(train.drop(columns = ['ticker', 'year', 'quarter', 'time', 'mcap', 'change', 'cik',\n",
    "'calendarYear', 'y']), train.y) \n",
    "imp = pd.DataFrame({'column': train.drop(columns = ['ticker', 'year', 'quarter', 'time', 'mcap', 'change', 'cik',\n",
    "'calendarYear', 'y']).columns, 'importance': model.feature_importances_})\n",
    "imp = imp.sort_values(by = 'importance', ascending = False)\n",
    "len(imp[imp.importance > imp[imp.column == 'random'].importance.iloc[0]].column)"
   ]
  },
  {
   "cell_type": "markdown",
   "metadata": {},
   "source": [
    "Let's see what results our cross-validation will show on all he columns and selcted ones to make sure that this method has worked. "
   ]
  },
  {
   "cell_type": "code",
   "execution_count": 7,
   "metadata": {},
   "outputs": [
    {
     "data": {
      "text/plain": [
       "0.026582803008206424"
      ]
     },
     "execution_count": 7,
     "metadata": {},
     "output_type": "execute_result"
    }
   ],
   "source": [
    "res = cross_val(rf, list(train.drop(columns = ['ticker', 'year', 'quarter', 'time', 'mcap', 'change', 'cik', 'calendarYear', 'y']).columns))\n",
    "res"
   ]
  },
  {
   "cell_type": "code",
   "execution_count": 8,
   "metadata": {},
   "outputs": [
    {
     "data": {
      "text/plain": [
       "0.03658280300820643"
      ]
     },
     "execution_count": 8,
     "metadata": {},
     "output_type": "execute_result"
    }
   ],
   "source": [
    "cols = list(imp[imp.importance > imp[imp.column == 'random'].importance.iloc[0]].column.values)\n",
    "res = cross_val(rf, cols)\n",
    "res"
   ]
  },
  {
   "cell_type": "markdown",
   "metadata": {},
   "source": [
    "However, 68 features is still quite a lot, do let's try to implement backward subset selection on our baseline random forest model to reduce amout of features even further. "
   ]
  },
  {
   "cell_type": "code",
   "execution_count": 9,
   "metadata": {},
   "outputs": [
    {
     "name": "stdout",
     "output_type": "stream",
     "text": [
      "weightedAverageShsOutDil 0.05658280300820645\n",
      "incomeTaxExpense 0.06658280300820646\n",
      "totalAssets 0.07324946967487313\n",
      "deferredTaxLiabilitiesNonCurrent 0.05658280300820645\n",
      "epsdiluted 0.06324946967487312\n",
      "operatingIncomeRatio 0.059916136341539784\n",
      "netChangeInCash 0.059916136341539784\n",
      "totalNonCurrentLiabilities 0.0699161363415398\n",
      "costAndExpenses 0.06658280300820646\n",
      "othertotalStockholdersEquity 0.09324946967487309\n",
      "goodwillAndIntangibleAssets 0.059916136341539826\n",
      "totalLiabilitiesAndStockholdersEquity 0.07658280300820643\n",
      "totalLiabilities 0.08324946967487311\n",
      "capitalLeaseObligations 0.08658280300820644\n",
      "weightedAverageShsOut 0.08991613634153979\n",
      "totalNonCurrentAssets 0.07658280300820645\n",
      "interestIncome 0.10658280300820644\n",
      "effectOfForexChangesOnCash 0.09324946967487313\n",
      "operatingIncome 0.08991613634153978\n",
      "netDebt 0.10324946967487314\n",
      "cashAndShortTermInvestments 0.09991613634153977\n",
      "eps 0.08658280300820644\n",
      "incomeBeforeTax 0.10658280300820644\n",
      "accountPayables 0.09658280300820647\n",
      "retainedEarnings 0.10658280300820644\n",
      "ebitda 0.12658280300820646\n",
      "longTermDebt 0.11324946967487311\n",
      "netIncome 0.12324946967487312\n",
      "incomeBeforeTaxRatio 0.1499161363415398\n",
      "totalDebt 0.12658280300820646\n",
      "propertyPlantEquipmentNet 0.14991613634153977\n",
      "revenue 0.13991613634153977\n",
      "taxPayables 0.13658280300820644\n",
      "totalCurrentAssets 0.1532494696748731\n",
      "sellingAndMarketingExpenses 0.14991613634153977\n",
      "commonStock 0.1632494696748731\n",
      "cashAndCashEquivalents 0.14991613634153977\n",
      "sellingGeneralAndAdministrativeExpenses 0.1632494696748731\n",
      "otherNonCashItems 0.15991613634153978\n",
      "costOfRevenue 0.14991613634153977\n",
      "netIncomeRatio 0.13658280300820644\n"
     ]
    }
   ],
   "source": [
    "curr = list(imp[imp.importance > imp[imp.column == 'random'].importance.iloc[0]].column)\n",
    "res, res_col = [], []\n",
    "count = 0\n",
    "prev_best = 0\n",
    "model = RandomForestClassifier(random_state=0, max_depth = 2)\n",
    "for k in range(50):\n",
    "    best = -2000 \n",
    "    for col in curr:\n",
    "        if col == 'call': continue # there is no need to inlude call in selection\n",
    "        # caluclating cross validation results with all features but one\n",
    "        diff = cross_val(model, [i for i in curr if i != col]) \n",
    "        # if result is better than the best one we update it and save the column name\n",
    "        if diff > best:\n",
    "            best = np.mean(diff)\n",
    "            best_col = col\n",
    "    \n",
    "    print(best_col, best)\n",
    "    # now we remove column after dropping of which we had the best result from list of all columns\n",
    "    curr.remove(best_col)\n",
    "    res.append(best)\n",
    "    res_col.append(best_col)\n",
    "    # implementing early stopping: if result is getting worse 3 iterations in a row we stop the selection proccess \n",
    "    if best <= prev_best:\n",
    "        count+=1\n",
    "    else:\n",
    "        count = 0\n",
    "    if count == 3:\n",
    "        break\n",
    "    prev_best = best"
   ]
  },
  {
   "cell_type": "markdown",
   "metadata": {},
   "source": [
    "Now when we have narrowed down the features list we need to chose the model. We will do greed search using our cross validation to choose between most popular boostings and random forest and in the end we will try some stacking."
   ]
  },
  {
   "cell_type": "code",
   "execution_count": 10,
   "metadata": {},
   "outputs": [],
   "source": [
    "# creating an updated list of columns\n",
    "cols = list(imp[imp.importance > imp[imp.column == 'random'].importance.iloc[0]].column)\n",
    "for i in range(len(res)):\n",
    "    cols.remove(res_col[i])        \n",
    "    if res[i] == max(res):\n",
    "        break"
   ]
  },
  {
   "cell_type": "markdown",
   "metadata": {},
   "source": [
    "# Model Selection"
   ]
  },
  {
   "cell_type": "code",
   "execution_count": 11,
   "metadata": {},
   "outputs": [
    {
     "name": "stdout",
     "output_type": "stream",
     "text": [
      "max_depth: 2 n_estimators: 100 result: 0.1632494696748731\n",
      "max_depth: 2 n_estimators: 200 result: 0.1532494696748731\n",
      "max_depth: 2 n_estimators: 300 result: 0.1532494696748731\n",
      "max_depth: 2 n_estimators: 400 result: 0.15658280300820646\n",
      "max_depth: 3 n_estimators: 100 result: 0.15324946967487316\n",
      "max_depth: 3 n_estimators: 200 result: 0.1532494696748731\n",
      "max_depth: 3 n_estimators: 300 result: 0.16658280300820646\n",
      "max_depth: 3 n_estimators: 400 result: 0.1532494696748731\n",
      "max_depth: 4 n_estimators: 100 result: 0.14658280300820645\n",
      "max_depth: 4 n_estimators: 200 result: 0.15991613634153978\n",
      "max_depth: 4 n_estimators: 300 result: 0.1632494696748731\n",
      "max_depth: 4 n_estimators: 400 result: 0.1632494696748731\n",
      "max_depth: 5 n_estimators: 100 result: 0.11324946967487311\n",
      "max_depth: 5 n_estimators: 200 result: 0.13658280300820647\n",
      "max_depth: 5 n_estimators: 300 result: 0.1532494696748731\n",
      "max_depth: 5 n_estimators: 400 result: 0.1532494696748731\n"
     ]
    }
   ],
   "source": [
    "for i in range(2, 6):\n",
    "    for j in range(100, 401, 100):\n",
    "        model = RandomForestClassifier(random_state=0, max_depth = i, n_estimators = j)\n",
    "        res = cross_val(model, cols)\n",
    "        print('max_depth:', i, 'n_estimators:', j, 'result:', res)"
   ]
  },
  {
   "cell_type": "code",
   "execution_count": 12,
   "metadata": {},
   "outputs": [
    {
     "name": "stdout",
     "output_type": "stream",
     "text": [
      "max_depth: 2 n_estimators: 100 result: 0.11324946967487311\n",
      "max_depth: 2 n_estimators: 200 result: 0.07991613634153981\n",
      "max_depth: 2 n_estimators: 300 result: 0.059916136341539784\n",
      "max_depth: 2 n_estimators: 400 result: 0.06658280300820646\n",
      "max_depth: 3 n_estimators: 100 result: 0.08991613634153979\n",
      "max_depth: 3 n_estimators: 200 result: 0.0799161363415398\n",
      "max_depth: 3 n_estimators: 300 result: 0.08324946967487314\n",
      "max_depth: 3 n_estimators: 400 result: 0.07658280300820645\n",
      "max_depth: 4 n_estimators: 100 result: 0.0699161363415398\n",
      "max_depth: 4 n_estimators: 200 result: 0.05658280300820644\n",
      "max_depth: 4 n_estimators: 300 result: 0.07324946967487313\n",
      "max_depth: 4 n_estimators: 400 result: 0.08324946967487314\n",
      "max_depth: 5 n_estimators: 100 result: 0.03991613634153977\n",
      "max_depth: 5 n_estimators: 200 result: 0.019916136341539787\n",
      "max_depth: 5 n_estimators: 300 result: 0.0599161363415398\n",
      "max_depth: 5 n_estimators: 400 result: 0.06658280300820645\n"
     ]
    }
   ],
   "source": [
    "for i in range(2, 6):\n",
    "    for j in range(100, 401, 100):\n",
    "        model = GradientBoostingClassifier(random_state=0, max_depth = i, n_estimators = j)\n",
    "        res = cross_val(model, cols)\n",
    "        print('max_depth:', i, 'n_estimators:', j, 'result:', res)"
   ]
  },
  {
   "cell_type": "code",
   "execution_count": 13,
   "metadata": {},
   "outputs": [
    {
     "name": "stdout",
     "output_type": "stream",
     "text": [
      "max_depth: 2 n_estimators: 100 result: 0.10658280300820648\n",
      "max_depth: 2 n_estimators: 200 result: 0.08324946967487314\n",
      "max_depth: 2 n_estimators: 300 result: 0.10658280300820648\n",
      "max_depth: 2 n_estimators: 400 result: 0.11324946967487311\n",
      "max_depth: 3 n_estimators: 100 result: 0.03991613634153976\n",
      "max_depth: 3 n_estimators: 200 result: 0.07658280300820647\n",
      "max_depth: 3 n_estimators: 300 result: 0.08324946967487314\n",
      "max_depth: 3 n_estimators: 400 result: 0.07658280300820645\n",
      "max_depth: 4 n_estimators: 100 result: 0.023249469674873114\n",
      "max_depth: 4 n_estimators: 200 result: 0.04991613634153982\n",
      "max_depth: 4 n_estimators: 300 result: 0.07991613634153978\n",
      "max_depth: 4 n_estimators: 400 result: 0.06324946967487312\n",
      "max_depth: 5 n_estimators: 100 result: 0.046582803008206476\n",
      "max_depth: 5 n_estimators: 200 result: 0.053249469674873144\n",
      "max_depth: 5 n_estimators: 300 result: 0.06991613634153979\n",
      "max_depth: 5 n_estimators: 400 result: 0.053249469674873116\n"
     ]
    }
   ],
   "source": [
    "for i in range(2, 6):\n",
    "    for j in range(100, 401, 100):\n",
    "        model = CatBoostClassifier(random_state=0, max_depth = i, n_estimators = j, verbose = 0)\n",
    "        res = cross_val(model, cols)\n",
    "        print('max_depth:', i, 'n_estimators:', j, 'result:', res)"
   ]
  },
  {
   "cell_type": "code",
   "execution_count": 14,
   "metadata": {},
   "outputs": [
    {
     "name": "stdout",
     "output_type": "stream",
     "text": [
      "max_depth: 2 n_estimators: 100 result: 0.05991613634153977\n",
      "max_depth: 2 n_estimators: 200 result: 0.039916136341539794\n",
      "max_depth: 2 n_estimators: 300 result: 0.0532494696748731\n",
      "max_depth: 2 n_estimators: 400 result: 0.046582803008206435\n",
      "max_depth: 3 n_estimators: 100 result: 0.05658280300820647\n",
      "max_depth: 3 n_estimators: 200 result: 0.029916136341539792\n",
      "max_depth: 3 n_estimators: 300 result: 0.01991613634153978\n",
      "max_depth: 3 n_estimators: 400 result: 0.03991613634153979\n",
      "max_depth: 4 n_estimators: 100 result: 0.06658280300820645\n",
      "max_depth: 4 n_estimators: 200 result: 0.029916136341539824\n",
      "max_depth: 4 n_estimators: 300 result: 0.043249469674873094\n",
      "max_depth: 4 n_estimators: 400 result: 0.043249469674873135\n",
      "max_depth: 5 n_estimators: 100 result: 0.03658280300820646\n",
      "max_depth: 5 n_estimators: 200 result: 0.026582803008206462\n",
      "max_depth: 5 n_estimators: 300 result: 0.016582803008206443\n",
      "max_depth: 5 n_estimators: 400 result: 0.02991613634153979\n"
     ]
    }
   ],
   "source": [
    "for i in range(2, 6):\n",
    "    for j in range(100, 401, 100):\n",
    "        model = XGBClassifier(random_state=0, max_depth = i, n_estimators = j)\n",
    "        res = cross_val(model, cols)\n",
    "        print('max_depth:', i, 'n_estimators:', j, 'result:', res)"
   ]
  },
  {
   "cell_type": "code",
   "execution_count": 15,
   "metadata": {},
   "outputs": [
    {
     "name": "stdout",
     "output_type": "stream",
     "text": [
      "max_depth: 2 n_estimators: 100 result: 0.10991613634153981\n",
      "max_depth: 2 n_estimators: 200 result: 0.09658280300820647\n",
      "max_depth: 2 n_estimators: 300 result: 0.07658280300820645\n",
      "max_depth: 2 n_estimators: 400 result: 0.0532494696748731\n",
      "max_depth: 3 n_estimators: 100 result: 0.08658280300820646\n",
      "max_depth: 3 n_estimators: 200 result: 0.07324946967487313\n",
      "max_depth: 3 n_estimators: 300 result: 0.06658280300820645\n",
      "max_depth: 3 n_estimators: 400 result: 0.0532494696748731\n",
      "max_depth: 4 n_estimators: 100 result: 0.05991613634153977\n",
      "max_depth: 4 n_estimators: 200 result: 0.039916136341539794\n",
      "max_depth: 4 n_estimators: 300 result: 0.02324946967487312\n",
      "max_depth: 4 n_estimators: 400 result: 0.049916136341539796\n",
      "max_depth: 5 n_estimators: 100 result: 0.07658280300820645\n",
      "max_depth: 5 n_estimators: 200 result: 0.033249469674873126\n",
      "max_depth: 5 n_estimators: 300 result: 0.01991613634153978\n",
      "max_depth: 5 n_estimators: 400 result: 0.02658280300820645\n"
     ]
    }
   ],
   "source": [
    "for i in range(2, 6):\n",
    "    for j in range(100, 401, 100):\n",
    "        model = LGBMClassifier(random_state=0, max_depth = i, n_estimators = j, verbose = -1)\n",
    "        res = cross_val(model, cols)\n",
    "        print('max_depth:', i, 'n_estimators:', j, 'result:', res)"
   ]
  },
  {
   "cell_type": "code",
   "execution_count": 16,
   "metadata": {},
   "outputs": [],
   "source": [
    "def cross_val(model, cols): \n",
    "    res = []\n",
    "    start_d = train.time.max() - timedelta(90*4)\n",
    "    for i in range(3):\n",
    "        tr = train[train.time < start_d+timedelta(90*i)][cols+['y', 'time', 'change']]\n",
    "        y_train = np.array(tr.y)\n",
    "        tr = tr.drop(columns = 'y')\n",
    "        val = train[(train.time > tr.time.max()+timedelta(91)) & (train.time < tr.time.max()+timedelta(181))][cols+['y', 'change', 'time']]\n",
    "        model = model.fit(tr.drop(columns = ['time', 'change']), y_train) \n",
    "        val['proba'] = model.predict_proba(val.drop(columns = ['y', 'change', 'time']))[:,1]\n",
    "        sc = val.sort_values(by = 'proba', ascending = False).iloc[range(100)].y.mean() - val.y.mean()\n",
    "        res.append(sc)\n",
    "    return np.mean(res)+0.052"
   ]
  },
  {
   "cell_type": "markdown",
   "metadata": {},
   "source": [
    "We can see that the best is shown by random forest, however, due to the different nature of boosting we can try to stack some boosting model producing great results with best version of random forest."
   ]
  },
  {
   "cell_type": "code",
   "execution_count": 17,
   "metadata": {},
   "outputs": [
    {
     "data": {
      "text/plain": [
       "0.1719161363415398"
      ]
     },
     "execution_count": 17,
     "metadata": {},
     "output_type": "execute_result"
    }
   ],
   "source": [
    "from sklearn.ensemble import RandomForestClassifier\n",
    "from sklearn.svm import LinearSVC\n",
    "from sklearn.linear_model import LogisticRegression\n",
    "from sklearn.preprocessing import StandardScaler\n",
    "from sklearn.pipeline import make_pipeline\n",
    "estimators = [\n",
    "    ('rf', RandomForestClassifier(max_depth = 2, n_estimators=100, random_state=0)),\n",
    "    ('cat', CatBoostClassifier(max_depth = 2, n_estimators=400, random_state=0, verbose= 0)),\n",
    "    \n",
    "]\n",
    "model = StackingClassifier(\n",
    "    estimators=estimators, final_estimator=LogisticRegression()\n",
    ")\n",
    "res = cross_val(model, cols)\n",
    "res"
   ]
  },
  {
   "cell_type": "markdown",
   "metadata": {},
   "source": [
    "So now our best model is Stacking of Random Forest and CatBoost Classifier. Let's see how it performs on the test set. First of all let's compare which model is better: just an NLP model on Earnings Calls or the new one."
   ]
  },
  {
   "cell_type": "markdown",
   "metadata": {},
   "source": [
    "# Results on the test set"
   ]
  },
  {
   "cell_type": "code",
   "execution_count": 18,
   "metadata": {},
   "outputs": [
    {
     "data": {
      "text/plain": [
       "0.052865429154030474"
      ]
     },
     "execution_count": 18,
     "metadata": {},
     "output_type": "execute_result"
    }
   ],
   "source": [
    "test['proba'] = model.predict_proba(test[cols])[:,1]\n",
    "res = test.sort_values(by = 'proba', ascending = False).iloc[range(100)].change.mean() - test.sort_values(by = 'call', ascending = False).iloc[range(100)].change.mean()\n",
    "res "
   ]
  },
  {
   "cell_type": "markdown",
   "metadata": {},
   "source": [
    "As we can see, new model outruns the NLP one. Now let's its performance compared to the market."
   ]
  },
  {
   "cell_type": "code",
   "execution_count": 19,
   "metadata": {},
   "outputs": [],
   "source": [
    "#calculating our portfolio and overall market precisions in each year of the test set\n",
    "precesion_model, precesion_market = [], []\n",
    "for i in range(2020, 2023):\n",
    "    prom = test[(test.time >= pd.to_datetime(f'01-01-{i}').date()) & (test.time < pd.to_datetime(f'01-01-{i+1}').date())]\n",
    "    prom['y'] = 0\n",
    "    prom['y'][prom.change > 1] = 1\n",
    "    precesion_model.append(prom.sort_values(by = 'proba', ascending = False).iloc[range(100)].y.mean())\n",
    "    precesion_market.append(prom.y.mean())"
   ]
  },
  {
   "cell_type": "code",
   "execution_count": 20,
   "metadata": {},
   "outputs": [
    {
     "data": {
      "image/png": "[encoded data removed]",
      "text/plain": [
       "<Figure size 640x480 with 1 Axes>"
      ]
     },
     "metadata": {},
     "output_type": "display_data"
    }
   ],
   "source": [
    "#graph of our portfolio and overall market precisions in each year of the test set\n",
    "\n",
    "r = np.array([0, 0.6, 1.2])\n",
    "width = 0.2\n",
    "\n",
    "plt.bar(r, precesion_model, color = 'b', \n",
    "        width = width,\n",
    "        label='Model precision') \n",
    "plt.bar(r + width, precesion_market, color = 'r', \n",
    "        width = width, \n",
    "        label='Random guess precision') \n",
    "  \n",
    "plt.xlabel(\"Year\") \n",
    "  \n",
    "plt.xticks(r + width/2,['2020','2021', '2022']) \n",
    "# plt.gca().yaxis.set_major_formatter(mtick.PercentFormatter(xmax=1.0))\n",
    "plt.legend()\n",
    "plt.axhline(y=0,linewidth=1, color='k')\n",
    "\n",
    "\n",
    "plt.show()"
   ]
  },
  {
   "cell_type": "code",
   "execution_count": 21,
   "metadata": {},
   "outputs": [],
   "source": [
    "#calculating our portfolio and overall market profits in each year of the test set\n",
    "\n",
    "profits_model, profits_market = [], []\n",
    "for i in range(2020, 2023):\n",
    "    prom = test[(test.time >= pd.to_datetime(f'01-01-{i}').date()) & (test.time < pd.to_datetime(f'01-01-{i+1}').date())]\n",
    "    profits_model.append(prom.sort_values(by = 'proba', ascending = False).iloc[range(100)].change.mean()-1)\n",
    "    profits_market.append(prom.change.mean()-1)"
   ]
  },
  {
   "cell_type": "code",
   "execution_count": 22,
   "metadata": {},
   "outputs": [
    {
     "data": {
      "image/png": "[encoded data removed]",
      "text/plain": [
       "<Figure size 640x480 with 1 Axes>"
      ]
     },
     "metadata": {},
     "output_type": "display_data"
    }
   ],
   "source": [
    "#graph of our portfolio and overall market profits in each year of the test set\n",
    "\n",
    "import matplotlib.ticker as mtick\n",
    "r = np.array([0, 0.6, 1.2])\n",
    "width = 0.2\n",
    "\n",
    "plt.bar(r, profits_model, color = 'b', \n",
    "        width = width,\n",
    "        label='Model profit') \n",
    "plt.bar(r + width, profits_market, color = 'r', \n",
    "        width = width, \n",
    "        label='Market profit') \n",
    "  \n",
    "plt.xlabel(\"Year\") \n",
    "  \n",
    "plt.xticks(r + width/2,['2020','2021', '2023']) \n",
    "plt.gca().yaxis.set_major_formatter(mtick.PercentFormatter(xmax=1.0))\n",
    "plt.legend()\n",
    "plt.axhline(y=0,linewidth=1, color='k')\n",
    "\n",
    "\n",
    "plt.show()"
   ]
  },
  {
   "cell_type": "code",
   "execution_count": 23,
   "metadata": {},
   "outputs": [
    {
     "name": "stdout",
     "output_type": "stream",
     "text": [
      "Average differencce between model profit and market model: 13.28%\n",
      "Average differencce between model precision and random guess: 0.157\n"
     ]
    }
   ],
   "source": [
    "print('Average differencce between model profit and market model:', str(round((np.mean(profits_model)-np.mean(profits_market))*100, 2))+'%')\n",
    "print('Average differencce between model precision and random guess:', round(np.mean(precesion_model)-np.mean(precesion_market), 3))\n",
    "\n"
   ]
  },
  {
   "cell_type": "code",
   "execution_count": 24,
   "metadata": {},
   "outputs": [
    {
     "data": {
      "image/png": "[encoded data removed]",
      "text/plain": [
       "<Figure size 1000x500 with 2 Axes>"
      ]
     },
     "metadata": {},
     "output_type": "display_data"
    }
   ],
   "source": [
    "import matplotlib.pyplot as plt\n",
    "\n",
    "labels = ['Grown', 'Fallen']\n",
    "data1 = [test.y.sum(), len(test)-test.y.sum()]  # values for the first pie chart\n",
    "picked = test.sort_values(by = 'proba', ascending = False).iloc[range(100)]\n",
    "data2 = [picked.y.sum(), 100 - picked.y.sum()]  # values for the second pie chart\n",
    "\n",
    "# Create subplots\n",
    "fig, (ax1, ax2) = plt.subplots(1, 2, figsize=(10, 5))\n",
    "\n",
    "# Plot the first pie chart\n",
    "ax1.pie(data1, labels=labels, autopct='%1.1f%%', startangle=90, colors=['green', 'red'])\n",
    "ax1.set_title('The market')\n",
    "\n",
    "# Plot the second pie chart\n",
    "ax2.pie(data2, labels=labels, autopct='%1.1f%%', startangle=90, colors=['green', 'red'])\n",
    "ax2.set_title('Top 100 stocks picked by the model')\n",
    "\n",
    "plt.tight_layout()\n",
    "plt.show()\n"
   ]
  },
  {
   "cell_type": "code",
   "execution_count": 25,
   "metadata": {},
   "outputs": [
    {
     "name": "stdout",
     "output_type": "stream",
     "text": [
      "Mean profit of the market: -2.71%\n",
      "Mean profit of top 100 stocks by the model: 11.72%\n",
      "Mean profit of top 100 stocks by Earnings call model: 6.44%\n"
     ]
    }
   ],
   "source": [
    "print('Mean profit of the market:', f\"{(np.round(np.mean(test.change)-1, 4)*100):.2f}%\")\n",
    "print('Mean profit of top 100 stocks by the model:', f\"{(np.round(np.mean(picked.change)-1, 4)*100):.2f}%\")\n",
    "print('Mean profit of top 100 stocks by Earnings call model:', f\"{(np.round(np.mean(test.sort_values(by = 'call', ascending = False).iloc[range(100)].change)-1, 4)*100):.2f}%\")\n"
   ]
  },
  {
   "cell_type": "markdown",
   "metadata": {},
   "source": [
    "# Conclusion"
   ]
  },
  {
   "cell_type": "markdown",
   "metadata": {},
   "source": [
    "As we can see, our new model significantly outperforms the average market, and thus, random guessing. It also shows improvement over using just an NLP model. With this model, we can construct a profitable portfolio without any human intervention. Additionally, the predicted probabilities can be used by professional portfolio managers as one of the data sources that allows to compare different stocks."
   ]
  }
 ],
 "metadata": {
  "deepnote": {
   "is_reactive": false
  },
  "deepnote_app_layout": "article",
  "deepnote_execution_queue": [],
  "deepnote_notebook_id": "985a087b270741e98b080672203c69ed",
  "deepnote_persisted_session": {
   "createdAt": "2022-09-12T16:41:13.531Z"
  },
  "kernelspec": {
   "display_name": "Python 3 (ipykernel)",
   "language": "python",
   "name": "python3"
  },
  "language_info": {
   "codemirror_mode": {
    "name": "ipython",
    "version": 3
   },
   "file_extension": ".py",
   "mimetype": "text/x-python",
   "name": "python",
   "nbconvert_exporter": "python",
   "pygments_lexer": "ipython3",
   "version": "3.9.2"
  }
 },
 "nbformat": 4,
 "nbformat_minor": 4
}
