{
 "cells": [
  {
   "cell_type": "markdown",
   "metadata": {
    "cell_id": "a0dd9d80acb74452bb24cb5632af7d38",
    "deepnote_app_coordinates": {
     "h": 5,
     "w": 12,
     "x": 0,
     "y": 1
    },
    "deepnote_cell_type": "text-cell-h1",
    "formattedRanges": [],
    "is_collapsed": false,
    "tags": []
   },
   "source": [
    "# Imports"
   ]
  },
  {
   "cell_type": "code",
   "execution_count": 7,
   "metadata": {
    "cell_id": "f263781905064529aa9eb891da740d1e",
    "deepnote_app_coordinates": {
     "h": 5,
     "w": 12,
     "x": 0,
     "y": 7
    },
    "deepnote_app_is_code_hidden": false,
    "deepnote_cell_height": 598,
    "deepnote_cell_type": "code",
    "deepnote_to_be_reexecuted": false,
    "execution_millis": 20,
    "execution_start": 1662789127286,
    "is_code_hidden": false,
    "source_hash": null,
    "tags": []
   },
   "outputs": [],
   "source": [
    "import os\n",
    "import gc\n",
    "import requests\n",
    "from datetime import datetime\n",
    "import pandas as pd\n",
    "from datetime import timedelta\n",
    "import requests\n",
    "from tqdm import tqdm\n",
    "import warnings\n",
    "warnings.filterwarnings('ignore')\n",
    "\n",
    "import time\n",
    "import ast\n",
    "import json\n",
    "import numpy as np \n",
    "fmp = 'your_api_key' \n",
    "\n",
    "# function that makes requests to the api and ensures that code won't stop in the middle if the problem is on the api side\n",
    "def req(r):\n",
    "    deaths = -5\n",
    "    while True:\n",
    "        if not deaths:\n",
    "            deaths = -5\n",
    "            time.sleep(1)\n",
    "        got = requests.get(r).content\n",
    "        try:\n",
    "            got = json.loads(got.decode('utf-8'))\n",
    "            deaths = -5\n",
    "            time.sleep(.2)\n",
    "        except:\n",
    "            deaths += 1\n",
    "            continue\n",
    "        if 'Error Message' in got:\n",
    "            deaths += 1\n",
    "            continue\n",
    "        return got\n",
    "import pandas as pd"
   ]
  },
  {
   "cell_type": "markdown",
   "metadata": {
    "cell_id": "ed995cc6db8e42688db56054191c4850",
    "deepnote_app_coordinates": {
     "h": 5,
     "w": 12,
     "x": 0,
     "y": 13
    },
    "deepnote_cell_type": "text-cell-h1",
    "formattedRanges": [],
    "is_collapsed": false,
    "tags": []
   },
   "source": [
    "# Collecting Earnings Call transcripts"
   ]
  },
  {
   "cell_type": "markdown",
   "metadata": {},
   "source": [
    "First of all we need to collect Earnings Call transcripts of NYSE and NASDAQ traded stocks"
   ]
  },
  {
   "cell_type": "code",
   "execution_count": null,
   "metadata": {},
   "outputs": [],
   "source": [
    "#request all availible symbols from the api and keeping only NYSE and NASDAQ traded stocks\n",
    "df = pd.DataFrame(req(f'https://financialmodelingprep.com/api/v3/stock/list?apikey={fmp}'))\n",
    "df = df[(df.exchange == 'New York Stock Exchange') | (df.exchange == 'NASDAQ')]\n",
    "df = df[df['type'] == 'stock']\n",
    "df['ticker'] = df.symbol\n",
    "df = df[df.ticker.apply(lambda x: '-'  not in x)].drop_duplicates(subset = 'name', keep = 'first')"
   ]
  },
  {
   "cell_type": "code",
   "execution_count": null,
   "metadata": {
    "cell_id": "4018a1cfac2a4818a964b2ab43b899e5",
    "deepnote_app_coordinates": {
     "h": 5,
     "w": 12,
     "x": 0,
     "y": 19
    },
    "deepnote_cell_height": 454.1875,
    "deepnote_cell_type": "code",
    "deepnote_to_be_reexecuted": false,
    "execution_millis": 12635738,
    "execution_start": 1640856057175,
    "source_hash": null,
    "tags": []
   },
   "outputs": [
    {
     "name": "stderr",
     "output_type": "stream",
     "text": [
      "100%|██████████| 2848/2848 [9:03:59<00:00, 11.46s/it]  \n"
     ]
    }
   ],
   "source": [
    "#collecting transcripts for several years\n",
    "yer, quat, trans, dtm = [], [], [], []\n",
    "new = {'ticker':[], 'year': [], 'quarter': [], 'transcript': [], 'time':[]}\n",
    "for i in tqdm(range(len(df))):\n",
    "    for j in range(2016, 2023):\n",
    "        for k in range(1, 5):\n",
    "            cll = req(f'https://financialmodelingprep.com/api/v3/earning_call_transcript/{df.ticker.iloc[i]}?quarter={k}&year={j}&apikey={fmp}')\n",
    "            if len(cll) == 0: continue\n",
    "            else:\n",
    "                new['ticker'].append(df.ticker.iloc[i])\n",
    "                new['year'].append(j)\n",
    "                new['quarter'].append(k)\n",
    "                new['transcript'].append(cll[0]['content'])\n",
    "                new['time'].append(cll[0]['date'])\n",
    "df = pd.DataFrame(new).dropna()\n",
    "df['time'] = pd.to_datetime(df.time)"
   ]
  },
  {
   "cell_type": "markdown",
   "metadata": {
    "cell_id": "8623539d09a447e3b47f98e0a9bd5d61",
    "deepnote_app_coordinates": {
     "h": 5,
     "w": 12,
     "x": 0,
     "y": 25
    },
    "deepnote_cell_type": "text-cell-h1",
    "formattedRanges": [],
    "is_collapsed": false,
    "tags": []
   },
   "source": [
    "# Data cleaning"
   ]
  },
  {
   "cell_type": "markdown",
   "metadata": {
    "cell_id": "0866f40ebef444e3a558018c7bebb3c3",
    "deepnote_app_coordinates": {
     "h": 5,
     "w": 12,
     "x": 0,
     "y": 31
    },
    "deepnote_cell_height": 97.171875,
    "deepnote_cell_type": "markdown",
    "tags": []
   },
   "source": [
    "We need to clean the text by removing phrases that don't help the model understand the company's prospects. For instance, we should remove all phrases spoken by the call operator and any phrases that include greetings and goodbyes made during the call."
   ]
  },
  {
   "cell_type": "code",
   "execution_count": null,
   "metadata": {
    "cell_id": "1a0e6edebc7d4a34b0985cf09e3edf86",
    "deepnote_app_coordinates": {
     "h": 5,
     "w": 12,
     "x": 0,
     "y": 37
    },
    "deepnote_cell_height": 953,
    "deepnote_cell_type": "code",
    "deepnote_to_be_reexecuted": false,
    "execution_millis": 1211813,
    "execution_start": 1640868692984,
    "source_hash": null,
    "tags": []
   },
   "outputs": [
    {
     "data": {
      "text/plain": [
       "0"
      ]
     },
     "execution_count": 4,
     "metadata": {},
     "output_type": "execute_result"
    }
   ],
   "source": [
    "ph = [\"hi\", \"hello\", \"hey\", \"good morning\", \"good day\", \"good afternoon\", \"good evening\", \"greetings\", \"greeting\", \"good to see you\", \"its good seeing you\", \"how are you\", \"how're you\", \"how are you doing\", \"how ya doin'\", \"how ya doin\", \"how is everything\", \"how is everything going\", \"how's everything going\", \"how is you\", \"how's you\", \"how are things\", \"how're things\", \"how is it going\", \"how's it going\", \"how's it goin'\", \"how's it goin\", \"how is life been treating you\", \"how's life been treating you\", \"how have you been\", \"how've you been\", \"what is up\", \"what's up\", \"what is cracking\", \"what's cracking\", \"what is good\", \"what's good\", \"what is happening\", \"what's happening\", \"what is new\", \"what's new\", \"what is neww\", \"g’day\", \"howdy\", \"welcome\"]\n",
    "gc.collect()\n",
    "import re\n",
    "def del_txt(x):\n",
    "    new = []\n",
    "    for i in x.lower().split('\\n')[1:]:\n",
    "        new_str = ''\n",
    "        if len(i) == 0: continue\n",
    "        for j in range(min(100, len(i))):\n",
    "            if i[j] == ':': break\n",
    "        if i[:j] == 'operator': continue\n",
    "        if j != len(i)+1: i = i[j+1:]\n",
    "        start = 0\n",
    "        for j in re.finditer('\\.|\\?|\\;', i):\n",
    "            if i[j.start()] == '?': \n",
    "                start = j.start()+1\n",
    "                continue\n",
    "            st = i[start:j.start()+1]\n",
    "            good = True\n",
    "            for p in ph:\n",
    "                if re.search(f'{p}[ .,\\d]', st) != None:\n",
    "                    good = False; break\n",
    "            if st.count(' ') <= 10:\n",
    "                if re.search(f'thank you[ .,\\d]', st) != None: good = False\n",
    "            if good: new_str += st\n",
    "            start = j.start()+1\n",
    "        new.append(new_str)\n",
    "    return('\\n'.join(new))\n",
    "for i in range(len(df)):\n",
    "    df.transcript.iloc[i] = del_txt(df.transcript.iloc[i])\n",
    "gc.collect()"
   ]
  },
  {
   "cell_type": "markdown",
   "metadata": {
    "cell_id": "53a6c6cba3c4416fb7d4934ef0ee5ffc",
    "deepnote_app_coordinates": {
     "h": 5,
     "w": 12,
     "x": 0,
     "y": 43
    },
    "deepnote_cell_type": "text-cell-h1",
    "formattedRanges": [],
    "is_collapsed": false,
    "tags": []
   },
   "source": [
    "# Stock price collection"
   ]
  },
  {
   "cell_type": "markdown",
   "metadata": {
    "cell_id": "544243b3820149b4817a56b24086f3e1",
    "deepnote_app_coordinates": {
     "h": 5,
     "w": 12,
     "x": 0,
     "y": 49
    },
    "deepnote_cell_height": 74.78125,
    "deepnote_cell_type": "markdown",
    "tags": []
   },
   "source": [
    "Now we need to collect market capitalization and prices. We will use the capitalization last known before the Earnings Call date, as it must be known in advance. For price change which will be the target of our model, we will use the ratio of the closing price on the call date plus 90 days to the closing price on the call date plus 1 day. This allows time to make purchases after the prediction."
   ]
  },
  {
   "cell_type": "code",
   "execution_count": null,
   "metadata": {
    "cell_id": "e56c53476e2146f4b2eae74b6e67e76c",
    "deepnote_app_coordinates": {
     "h": 5,
     "w": 12,
     "x": 0,
     "y": 55
    },
    "deepnote_cell_height": 292.1875,
    "deepnote_cell_type": "code",
    "deepnote_to_be_reexecuted": false,
    "execution_millis": 8864927,
    "execution_start": 1640869904796,
    "source_hash": null,
    "tags": []
   },
   "outputs": [
    {
     "name": "stderr",
     "output_type": "stream",
     "text": [
      " 99%|█████████▉| 44901/45208 [11:13:44<04:05,  1.25it/s]  "
     ]
    }
   ],
   "source": [
    "mass = []\n",
    "for i in tqdm(range(len(df))):\n",
    "    prc = req(f\"https://financialmodelingprep.com/api/v3/historical-price-full/{df.ticker.iloc[i]}?from={df.time.iloc[i] - timedelta(days = 5)}&to={df.time.iloc[i] - timedelta(days = 1)}&limit=1000000000&apikey={fmp}\")\n",
    "    shrs = req(f\"https://financialmodelingprep.com/api/v3/quote/{df.ticker.iloc[i]}?apikey={fmp}\")\n",
    "    if (len(prc) == 0) or (len(shrs) == 0): \n",
    "        mass.append(np.nan)\n",
    "        continue\n",
    "    shrs = shrs[0]['sharesOutstanding']\n",
    "    prc = prc['historical'][0]['close']\n",
    "    mass.append(prc*shrs/1000000000)\n",
    "df['mcap'] = mass"
   ]
  },
  {
   "cell_type": "code",
   "execution_count": null,
   "metadata": {},
   "outputs": [],
   "source": [
    "df.to_pickle('transcripts.pkl')"
   ]
  },
  {
   "cell_type": "code",
   "execution_count": null,
   "metadata": {
    "cell_id": "668cbe1a9a9b4245b29381112a570493",
    "deepnote_app_coordinates": {
     "h": 5,
     "w": 12,
     "x": 0,
     "y": 67
    },
    "deepnote_cell_height": 346.1875,
    "deepnote_cell_type": "code",
    "deepnote_to_be_reexecuted": false,
    "execution_millis": 3031482,
    "execution_start": 1662789139272,
    "source_hash": null,
    "tags": []
   },
   "outputs": [
    {
     "name": "stderr",
     "output_type": "stream",
     "text": [
      "100%|██████████| 45208/45208 [6:52:32<00:00,  1.83it/s]   \n"
     ]
    }
   ],
   "source": [
    "diff = []\n",
    "df['time'] = pd.to_datetime(df.time)\n",
    "for i in tqdm(range(0, len(df))):\n",
    "    prc = req(f'https://financialmodelingprep.com/api/v3/historical-price-full/{df.ticker.iloc[i]}?from={df.time.iloc[i] + timedelta(days = 1)}&to={df.time.iloc[i] + timedelta(days = 90)}&apikey={fmp}')\n",
    "    if len(prc) == 0:\n",
    "        diff.append(np.nan)\n",
    "        continue\n",
    "    con = prc['historical'][-1]['close']\n",
    "    prc = prc['historical'][0]['close']\n",
    "    if prc == 0:\n",
    "        diff.append(np.nan)\n",
    "        continue\n",
    "    diff.append(con/prc)\n",
    "df['change'] = diff"
   ]
  },
  {
   "cell_type": "code",
   "execution_count": null,
   "metadata": {
    "cell_id": "f976e733ec624eb2805d542358b6faf8",
    "deepnote_app_coordinates": {
     "h": 5,
     "w": 12,
     "x": 0,
     "y": 73
    },
    "deepnote_cell_height": 61,
    "deepnote_cell_type": "code",
    "tags": []
   },
   "outputs": [],
   "source": [
    "df.to_pickle('transcripts.pkl')"
   ]
  },
  {
   "cell_type": "markdown",
   "metadata": {
    "cell_id": "031165a8b18042f39cf467287dd8de3f",
    "deepnote_app_coordinates": {
     "h": 5,
     "w": 12,
     "x": 0,
     "y": 79
    },
    "deepnote_cell_type": "text-cell-h1",
    "formattedRanges": [],
    "is_collapsed": false,
    "tags": []
   },
   "source": [
    "# Collecting financials data"
   ]
  },
  {
   "cell_type": "markdown",
   "metadata": {
    "cell_id": "57367bf3ecdc45608e312ff7711f3ffd",
    "deepnote_app_coordinates": {
     "h": 5,
     "w": 12,
     "x": 0,
     "y": 85
    },
    "deepnote_cell_height": 200.734375,
    "deepnote_cell_type": "markdown",
    "tags": []
   },
   "source": [
    "Now we need to collect data about the company's financials to enhance our NLP model with another model using the results of the NLP model and financial data. We need to gather all financials reported before the earnings call. Additionally, we need to standardize the data across companies. Since the data is reported in dollars and companies vary in size, we can't use it as is. Instead, we will divide all financials for the current quarter by the same metrics from the previous year to obtain year-to-year changes in each column. Using the same quarter from a year ago helps us avoid seasonality effects that could arise if we used just the previous quarter. \n",
    "\n",
    "However, challenges arise when at least one of the two quarters, either the current or the one from a year ago, has a negative number. In such cases, traditional percentage change calculations become unfeasible. To address this, our model employs specialized formulas designed for each of these scenarios. These formulas allow the AI to get a single numeric representation that indicates the change in a given metric, even when faced with negative values in the data. You can find formulas in the code.\n",
    "\n"
   ]
  },
  {
   "cell_type": "code",
   "execution_count": null,
   "metadata": {},
   "outputs": [],
   "source": [
    "df = pd.read_pickle('transcripts.pkl')"
   ]
  },
  {
   "cell_type": "code",
   "execution_count": null,
   "metadata": {
    "cell_id": "23ef63d166754989a5cc9e9252937aef",
    "deepnote_app_coordinates": {
     "h": 5,
     "w": 12,
     "x": 0,
     "y": 91
    },
    "deepnote_cell_height": 675,
    "deepnote_cell_type": "code",
    "deepnote_to_be_reexecuted": false,
    "execution_millis": 143,
    "execution_start": 1640943193471,
    "source_hash": null,
    "tags": []
   },
   "outputs": [],
   "source": [
    "# creating dictionary containing names of all possible financials\n",
    "cash1 = req(f\"https://financialmodelingprep.com/api/v3/cash-flow-statement/AAPL?period=quarter&limit=1000000000&apikey={fmp}\")[0]\n",
    "balance1 = req(f\"https://financialmodelingprep.com/api/v3/balance-sheet-statement/AAPL?period=quarter&limit=1000000000&apikey={fmp}\")[0]\n",
    "incm1 = req(f\"https://financialmodelingprep.com/api/v3/income-statement/AAPL?period=quarter&limit=1000000000&apikey={fmp}\")[0]\n",
    "dic = set(['ticker','quarter','year','time'])\n",
    "for i in (cash1, balance1, incm1): dic.update(i.keys())\n",
    "for i in ('date', 'symbol', 'reportedCurrency', 'fillingDate', 'acceptedDate', 'period', 'link', 'finalLink'): dic.remove(i)\n",
    "dic = {i:[] for i in dic}"
   ]
  },
  {
   "cell_type": "code",
   "execution_count": null,
   "metadata": {
    "cell_id": "e39e8322e9b94bc0ae9586d3b1cff611",
    "deepnote_app_coordinates": {
     "h": 5,
     "w": 12,
     "x": 0,
     "y": 97
    },
    "deepnote_cell_height": 2578.1875,
    "deepnote_cell_type": "code",
    "deepnote_to_be_reexecuted": false,
    "execution_millis": 7076417,
    "execution_start": 1640943193638,
    "source_hash": null,
    "tags": []
   },
   "outputs": [
    {
     "name": "stderr",
     "output_type": "stream",
     "text": [
      " 78%|███████▊  | 35416/45208 [4:50:39<59:38,  2.74it/s]   "
     ]
    }
   ],
   "source": [
    "from tqdm.contrib.telegram import tqdm as tqdm_tg\n",
    "\n",
    "cache_cash, cache_peers, cache_shrs, cache_balance, cache_incm = {}, {}, {}, {}, {}\n",
    "PFCF_discount, EVE_discount, PS_discount, PE_discount = [], [], [], []\n",
    "df.quarter = df.quarter.astype(str)\n",
    "df.year = df.year.astype(str)\n",
    "for i in tqdm(range(len(df))): \n",
    "    if df.ticker.iloc[i] in cache_cash: cash = cache_cash[df.ticker.iloc[i]]\n",
    "    else: \n",
    "        #creating cache so we don;t have to make the same request to api several times\n",
    "        cash = req(f\"https://financialmodelingprep.com/api/v3/cash-flow-statement/{df.ticker.iloc[i]}?period=quarter&limit=1000000000&apikey={fmp}\")\n",
    "        cache_cash[df.ticker.iloc[i]] = cash\n",
    "    #finding needed quarter and year in cash flow statement\n",
    "    for j in cash:\n",
    "        if (j['period'] == 'Q' + df.quarter.iloc[i]) & (j['calendarYear'] == df.year.iloc[i]):\n",
    "            break\n",
    "    if not ((j['period'] == 'Q' + df.quarter.iloc[i]) & (j['calendarYear'] == df.year.iloc[i])):\n",
    "        continue\n",
    "    cash1 = j\n",
    "    #finding needed quarter in a previous year\n",
    "    for j in cash:\n",
    "        if (j['period'] == 'Q' +str(df.quarter.iloc[i])) and (j['calendarYear'] == str(int(cash1['calendarYear'])-1)):\n",
    "            break\n",
    "    if not ((j['period'] == 'Q' +str(df.quarter.iloc[i])) and (j['calendarYear'] == str(int(cash1['calendarYear'])-1))):\n",
    "        continue\n",
    "    cash2 = j\n",
    "    if type(pd.to_datetime(cash1['acceptedDate'])) == type(None): \n",
    "        continue    \n",
    "    #doing the same for balance sheet statement\n",
    "    if df.ticker.iloc[i] in cache_balance: balance = cache_balance[df.ticker.iloc[i]]\n",
    "    else:\n",
    "        balance = req(f\"https://financialmodelingprep.com/api/v3/balance-sheet-statement/{df.ticker.iloc[i]}?period=quarter&limit=1000000000&apikey={fmp}\")\n",
    "        cache_balance[df.ticker.iloc[i]] = balance\n",
    "\n",
    "    for j in balance:\n",
    "        if (j['period'] == 'Q' + df.quarter.iloc[i]) & (j['calendarYear'] == df.year.iloc[i]):\n",
    "            break\n",
    "    if not ((j['period'] == 'Q' + df.quarter.iloc[i]) & (j['calendarYear'] == df.year.iloc[i])):\n",
    "        continue\n",
    "    balance1 = j\n",
    "    for j in balance:\n",
    "        if (j['period'] == 'Q' +str(df.quarter.iloc[i])) and (j['calendarYear'] == str(int(balance1['calendarYear'])-1)):\n",
    "            break\n",
    "    if not ((j['period'] == 'Q' +str(df.quarter.iloc[i])) and (j['calendarYear'] == str(int(balance1['calendarYear'])-1))):\n",
    "            continue\n",
    "    balance2 = j\n",
    "\n",
    "    #doing the same for income statement\n",
    "\n",
    "    if df.ticker.iloc[i] in cache_incm: incm = cache_incm[df.ticker.iloc[i]]\n",
    "    else:\n",
    "        incm = req(f\"https://financialmodelingprep.com/api/v3/income-statement/{df.ticker.iloc[i]}?period=quarter&limit=1000000000&apikey={fmp}\")\n",
    "\n",
    "    for j in incm:\n",
    "        if (j['period'] == 'Q' + df.quarter.iloc[i]) & (j['calendarYear'] == df.year.iloc[i]):\n",
    "            break\n",
    "    if not ((j['period'] == 'Q' + df.quarter.iloc[i]) & (j['calendarYear'] == df.year.iloc[i])):\n",
    "        continue\n",
    "    incm1 = j\n",
    "\n",
    "    for j in incm:\n",
    "        if (j['period'] == 'Q' +str(df.quarter.iloc[i])) and (j['calendarYear'] == str(int(incm1['calendarYear'])-1)):\n",
    "            break\n",
    "    if not ((j['period'] == 'Q' +str(df.quarter.iloc[i])) and (j['calendarYear'] == str(int(incm1['calendarYear'])-1))):\n",
    "        continue\n",
    "    incm2 = j\n",
    "    \n",
    "    # some parameters can appear in several statements (for example in income statement and balance sheet statement)\n",
    "    # so we need to check whether we already added it.\n",
    "    for k in dic:\n",
    "        if (k in cash1.keys()):\n",
    "            try:\n",
    "                if cash2[k] != 0:\n",
    "                    # just taking ratio if both of the numbers are positive\n",
    "                    if (float(cash1[k]) > 0) and (float(cash2[k]) > 0):\n",
    "                        dic[k].append(float(cash1[k])/float(cash2[k]))\n",
    "                        \n",
    "                    # In the case where both numbers are negative, we have two different cases: \n",
    "                    # when the absolute value of the current quarter is less and more than that of the previous one. \n",
    "                    elif (float(cash1[k]) < 0) and (float(cash2[k]) < 0):\n",
    "        \n",
    "                    # In the first case, we divide the current quarter value by the previous one and subtract it from 1. \n",
    "                    # (than adding one to maintain the same format where 1 means that number hasn't changed)\n",
    "                    # For example, if a company had 100 million in loss a year ago and only 50 million now we get \n",
    "                    # 100%*(1-(-50)/(-100)) = 50% increase in net income.\n",
    "                        if float(cash1[k]) > float(cash2[k]):\n",
    "                            dic[k].append(1+(1 - (abs(float(cash1[k]))/abs(float(cash2[k])))))\n",
    "                            \n",
    "                    # In the case where the absolute value of the current quarter is higher, \n",
    "                    # we take the negative of the current quarter over the previous one. \n",
    "                    # Thus we can find how much the loss in this metric increased also showing the model negative nature of this decrease. \n",
    "                    # For example, if a company had 50 million in loss a year ago and 100 million now we get \n",
    "                    # 100%*(-(-100)/(-50)-1) = -300% in net income.\n",
    "                        elif float(cash1[k]) < float(cash2[k]):\n",
    "                            dic[k].append(-(float(cash1[k])/float(cash2[k])))\n",
    "                            \n",
    "                    # when they're equal we just take 1 \n",
    "                        else:\n",
    "                            dic[k].append(1)\n",
    "                    \n",
    "                    # Here we begin by taking the absolute value of the previous quarter’s metric as a baseline. \n",
    "                    # By doing so, we essentially increase the previous quarter’s value by twice its absolute value. \n",
    "                    # Therefore, to calculate fair change we should add two absolute values of the previous quarter to the current one. \n",
    "                    # Thus, we use the following formula: 100%*((current_quarter_value + 2*|previous_quarter_value|)/|previous_quarter_value| – 1)\n",
    "                    # For example, if a company has 100 million net income this quarter, but had 50 million in loss a year ago, \n",
    "                    # we get 100%*((100 + 2*|-50|)/|-50| – 1) = 300% increase in net income\n",
    "                    \n",
    "                    elif (float(cash1[k]) > 0) and (float(cash2[k]) < 0):\n",
    "                        dic[k].append((float(cash1[k])+2*abs(float(cash2[k])))/abs(float(cash2[k])))\n",
    "            \n",
    "                    # In the last case where current quarter is negative and previous one is positive\n",
    "                    # we divide the current quarter’s value by the previous one and then subtract an additional 1 \n",
    "                    # from the result. This process yields a negative percentage value that surpasses -100%.\n",
    "                    # For example, if a company has 50 million in a loss in this quarter, but had 100 million in net income a year ago, \n",
    "                    # we get 100%*(-50/100-2) = -250% decrease in net income\n",
    "                    else:\n",
    "                        dic[k].append((float(cash1[k])/float(cash2[k]))-1)\n",
    "                else:\n",
    "                    if cash1[k] == 0:\n",
    "                        dic[k].append(1)\n",
    "                    elif cash1[k] > 0:\n",
    "                        dic[k].append(2)\n",
    "                    else:\n",
    "                        dic[k].append(-2)\n",
    "            except: \n",
    "                dic[k].append(np.nan)\n",
    "    # doing the same for balance sheet statement\n",
    "    for k in dic:\n",
    "        if (k in balance1.keys()) and (k not in cash1.keys()):\n",
    "            try: \n",
    "                if balance2[k] != 0:\n",
    "                    if (float(balance1[k]) > 0) and (float(balance2[k]) > 0):\n",
    "                        dic[k].append(float(balance1[k])/float(balance2[k]))\n",
    "                    elif (float(balance1[k]) < 0) and (float(balance2[k]) < 0):\n",
    "                        if float(balance1[k]) > float(balance2[k]):\n",
    "                            dic[k].append(1+(1 - (abs(float(balance1[k]))/abs(float(balance2[k])))))\n",
    "                        elif float(balance1[k]) < float(balance2[k]):\n",
    "                            dic[k].append(-(float(balance1[k])/float(balance2[k])))\n",
    "                        else:\n",
    "                            dic[k].append(1)\n",
    "                    elif (float(balance1[k]) > 0) and (float(balance2[k]) < 0):\n",
    "                        dic[k].append((float(balance1[k])+2*abs(float(balance2[k])))/abs(float(balance2[k])))\n",
    "                    else:\n",
    "                        dic[k].append((float(balance1[k])/float(balance2[k]))-1)\n",
    "                else:\n",
    "                    if balance1[k] == 0:\n",
    "                        dic[k].append(1)\n",
    "                    elif balance1[k] > 0:\n",
    "                        dic[k].append(2)\n",
    "                    else:\n",
    "                        dic[k].append(-2)\n",
    " \n",
    "            except: \n",
    "                dic[k].append(np.nan)\n",
    "    # doing the same for income statement\n",
    "    for k in dic:\n",
    "        if (k in incm1.keys() and (k not in cash1.keys())) and (k not in balance1.keys()):\n",
    "            try: \n",
    "                if incm2[k] != 0:\n",
    "                    if (float(incm1[k]) > 0) and (float(incm2[k]) > 0):\n",
    "                        dic[k].append(float(incm1[k])/float(incm2[k]))\n",
    "                    elif (float(incm1[k]) < 0) and (float(incm2[k]) < 0):\n",
    "                        if float(incm1[k]) > float(incm2[k]):\n",
    "                            dic[k].append(1+(1 - (abs(float(incm1[k]))/abs(float(incm2[k])))))\n",
    "                        elif float(incm1[k]) < float(incm2[k]):\n",
    "                            dic[k].append(-(float(incm1[k])/float(incm2[k])))\n",
    "                        else:\n",
    "                            dic[k].append(1)\n",
    "                    elif (float(incm1[k]) > 0) and (float(incm2[k]) < 0):\n",
    "                        dic[k].append((float(incm1[k])+2*abs(float(incm2[k])))/abs(float(incm2[k])))\n",
    "                    else:\n",
    "                        dic[k].append((float(incm1[k])/float(incm2[k]))-1)\n",
    "                else:\n",
    "                    if incm1[k] == 0:\n",
    "                        dic[k].append(1)\n",
    "                    elif incm1[k] > 0:\n",
    "                        dic[k].append(2)\n",
    "                    else:\n",
    "                        dic[k].append(-2)\n",
    "            except:\n",
    "                dic[k].append(np.nan)\n",
    "    dic['ticker'].append(df.ticker.iloc[i])\n",
    "    dic['quarter'].append(df.quarter.iloc[i])\n",
    "    dic['year'].append(df.year.iloc[i])\n",
    "    dic['time'].append(pd.to_datetime(cash1['acceptedDate']))"
   ]
  },
  {
   "cell_type": "code",
   "execution_count": null,
   "metadata": {},
   "outputs": [],
   "source": [
    "df = pd.DataFrame(dic)\n",
    "df['time'] = pd.to_datetime(df.time).apply(lambda x: x.date())"
   ]
  },
  {
   "cell_type": "code",
   "execution_count": null,
   "metadata": {
    "cell_id": "676bc7c7ca814a6cb09434429a4995ec",
    "deepnote_app_coordinates": {
     "h": 5,
     "w": 12,
     "x": 0,
     "y": 103
    },
    "deepnote_cell_type": "code",
    "deepnote_to_be_reexecuted": false,
    "execution_millis": 1367,
    "execution_start": 1640950270056,
    "source_hash": null,
    "tags": []
   },
   "outputs": [],
   "source": [
    "df.to_pickle('financials_data.pkl')"
   ]
  }
 ],
 "metadata": {
  "deepnote": {
   "is_reactive": false
  },
  "deepnote_app_layout": "article",
  "deepnote_execution_queue": [],
  "deepnote_notebook_id": "1aea42a23cf346b99f9db9862adc932a",
  "deepnote_persisted_session": {
   "createdAt": "2022-09-10T09:30:18.888Z"
  },
  "kernelspec": {
   "display_name": "Python 3 (ipykernel)",
   "language": "python",
   "name": "python3"
  },
  "language_info": {
   "codemirror_mode": {
    "name": "ipython",
    "version": 3
   },
   "file_extension": ".py",
   "mimetype": "text/x-python",
   "name": "python",
   "nbconvert_exporter": "python",
   "pygments_lexer": "ipython3",
   "version": "3.9.2"
  }
 },
 "nbformat": 4,
 "nbformat_minor": 4
}
